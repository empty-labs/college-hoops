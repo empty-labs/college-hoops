{
 "cells": [
  {
   "cell_type": "markdown",
   "id": "78a62ecd-81cf-4fce-b77c-e6f68b492a79",
   "metadata": {},
   "source": [
    "# Machine Learning Approach"
   ]
  },
  {
   "cell_type": "code",
   "execution_count": null,
   "id": "1113c31e-429f-4f80-8e75-252aef6e3c6c",
   "metadata": {},
   "outputs": [],
   "source": [
    "# Local libraries\n",
    "import Tools.ratings_utils as ru\n",
    "import Tools.system_utils as sys\n",
    "\n",
    "YEAR = 2024\n",
    "FILENAME = f\"Data/Seasons/data_{YEAR}.json\"\n",
    "TOURNAMENT_FILENAME = f\"Data/Tournaments/tournament_{YEAR}.csv\"\n",
    "PICKS_FILENAME = f\"Data/Tournament Picks/picks_{YEAR}.csv\"\n",
    "\n",
    "\n",
    "# Create data frame for valid teams in the current season that can be used for tournament simulation\n",
    "score_df = ru.set_rating_data_frame(filename=FILENAME)"
   ]
  },
  {
   "cell_type": "code",
   "execution_count": null,
   "id": "73c69695-7089-45ec-a8e1-1631f9b8df85",
   "metadata": {},
   "outputs": [],
   "source": [
    "print(score_df.head())"
   ]
  },
  {
   "cell_type": "code",
   "execution_count": null,
   "id": "1cf01400-79d7-46f9-bca2-173b9cf91c31",
   "metadata": {
    "scrolled": true
   },
   "outputs": [],
   "source": [
    "rating_score_df = ru.add_ratings_per_game(score_df=score_df)"
   ]
  },
  {
   "cell_type": "code",
   "execution_count": null,
   "id": "623d8ee0-3999-44c7-9832-ebb6b8b58b38",
   "metadata": {},
   "outputs": [],
   "source": [
    "print(rating_score_df)"
   ]
  },
  {
   "cell_type": "code",
   "execution_count": null,
   "id": "579d21d3-2640-4fc4-9e62-ce584204b056",
   "metadata": {},
   "outputs": [],
   "source": []
  }
 ],
 "metadata": {
  "kernelspec": {
   "display_name": "college-hoops",
   "language": "python",
   "name": "college-hoops"
  },
  "language_info": {
   "codemirror_mode": {
    "name": "ipython",
    "version": 3
   },
   "file_extension": ".py",
   "mimetype": "text/x-python",
   "name": "python",
   "nbconvert_exporter": "python",
   "pygments_lexer": "ipython3",
   "version": "3.10.16"
  }
 },
 "nbformat": 4,
 "nbformat_minor": 5
}
