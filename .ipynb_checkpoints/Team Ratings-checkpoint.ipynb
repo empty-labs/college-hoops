{
 "cells": [
  {
   "cell_type": "markdown",
   "id": "3ffedcd9-d96b-4d56-b36b-58f396a72495",
   "metadata": {},
   "source": [
    "# Team Ratings"
   ]
  },
  {
   "cell_type": "code",
   "execution_count": 1,
   "id": "db9d2fd6-9bd7-411e-bef2-ad6dce85e898",
   "metadata": {},
   "outputs": [],
   "source": [
    "# Local libraries\n",
    "import Tools.ratings_utils as ru\n",
    "\n",
    "FILENAME = \"Data/data_2024.json\"\n",
    "TOURNAMENT_FILENAME = \"Data/tournament_2024.csv\""
   ]
  },
  {
   "cell_type": "code",
   "execution_count": 2,
   "id": "e826019a-e94f-4d02-bd1f-b08668df8fc8",
   "metadata": {},
   "outputs": [
    {
     "ename": "NameError",
     "evalue": "name 'Tournament' is not defined",
     "output_type": "error",
     "traceback": [
      "\u001b[0;31m---------------------------------------------------------------------------\u001b[0m",
      "\u001b[0;31mNameError\u001b[0m                                 Traceback (most recent call last)",
      "Cell \u001b[0;32mIn[2], line 2\u001b[0m\n\u001b[1;32m      1\u001b[0m \u001b[38;5;66;03m# Currently unused (save for Massey, Colley, Elo Ratings)\u001b[39;00m\n\u001b[0;32m----> 2\u001b[0m tournament \u001b[38;5;241m=\u001b[39m \u001b[43mTournament\u001b[49m\u001b[38;5;241m.\u001b[39mTournament(url\u001b[38;5;241m=\u001b[39mTOURNAMENT_URL,\n\u001b[1;32m      3\u001b[0m                                    debug\u001b[38;5;241m=\u001b[39m\u001b[38;5;28;01mTrue\u001b[39;00m)\n",
      "\u001b[0;31mNameError\u001b[0m: name 'Tournament' is not defined"
     ]
    }
   ],
   "source": [
    "# Currently unused (save for Massey, Colley, Elo Ratings)\n",
    "tournament = Tournament.Tournament(url=TOURNAMENT_URL,\n",
    "                                   debug=True)"
   ]
  },
  {
   "cell_type": "markdown",
   "id": "1ba74e55-b2f0-4b4d-951d-b5fa193c2497",
   "metadata": {},
   "source": [
    "## Massey Ratings"
   ]
  },
  {
   "cell_type": "code",
   "execution_count": 3,
   "id": "530fd323-e87f-4d69-bb0b-1d5052b7058c",
   "metadata": {},
   "outputs": [],
   "source": [
    "score_df = ru.set_massey_rating_data_frame(filename=FILENAME)\n",
    "massey_ratings = ru.calculate_massey_ratings(score_df=score_df,\n",
    "                                               debug=False)"
   ]
  },
  {
   "cell_type": "code",
   "execution_count": 15,
   "id": "a259c8ac-f74f-4c29-baa2-f2868af01ae0",
   "metadata": {},
   "outputs": [
    {
     "name": "stdout",
     "output_type": "stream",
     "text": [
      "   Round Conference  Game             Team1         Team2  Score1  Score2\n",
      "0      1       East     1       Connecticut       Stetson      91      52\n",
      "1      1       East     2  Florida Atlantic  Northwestern      65      77\n",
      "2      1       East     3   San Diego State           UAB      69      65\n",
      "3      1       East     4            Auburn          Yale      76      78\n",
      "4      1       East     5     Brigham Young      Duquesne      67      71\n",
      "   Round  Game             Team1         Team2    Rating1    Rating2\n",
      "0      1     1       Connecticut       Stetson  45.398735  16.722209\n",
      "1      1     2  Florida Atlantic  Northwestern  34.476610  33.382178\n",
      "2      1     3   San Diego State           UAB  35.811758  25.808480\n",
      "3      1     4            Auburn          Yale  43.980661  25.408055\n",
      "4      1     5     Brigham Young      Duquesne  40.938876  28.166539\n"
     ]
    }
   ],
   "source": [
    "import pandas as pd\n",
    "\n",
    "# Load tournament CSV file into a DataFrame\n",
    "tourney_df = pd.read_csv(TOURNAMENT_FILENAME)\n",
    "\n",
    "# Display the first 5 rows\n",
    "print(tourney_df.head())\n",
    "# print(massey_ratings)\n",
    "\n",
    "tourney_dict = {\n",
    "    \"Round\": [],\n",
    "    \"Game\": [],\n",
    "    \"Team1\": [],\n",
    "    \"Team2\": [],\n",
    "    \"Rating1\": [],\n",
    "    \"Rating2\": []\n",
    "}\n",
    "\n",
    "# Add ratings to 1st round\n",
    "for i in range(32):\n",
    "    \n",
    "    team1 = tourney_df[\"Team1\"][i]\n",
    "    team2 = tourney_df[\"Team2\"][i]\n",
    "    rating1 = massey_ratings[team1]\n",
    "    rating2 = massey_ratings[team2]\n",
    "    \n",
    "    tourney_dict[\"Round\"].append(tourney_df[\"Round\"][i])\n",
    "    tourney_dict[\"Game\"].append(tourney_df[\"Game\"][i])\n",
    "    tourney_dict[\"Team1\"].append(team1)\n",
    "    tourney_dict[\"Team2\"].append(team2)\n",
    "    tourney_dict[\"Rating1\"].append(rating1)\n",
    "    tourney_dict[\"Rating2\"].append(rating2)\n",
    "\n",
    "print(pd.DataFrame(tourney_dict).head())\n",
    "\n",
    "# Compare 1st round scores"
   ]
  },
  {
   "cell_type": "code",
   "execution_count": null,
   "id": "eecdb58c-92d2-4a15-8532-4f34b6fdc702",
   "metadata": {},
   "outputs": [],
   "source": []
  }
 ],
 "metadata": {
  "kernelspec": {
   "display_name": "college-hoops",
   "language": "python",
   "name": "college-hoops"
  },
  "language_info": {
   "codemirror_mode": {
    "name": "ipython",
    "version": 3
   },
   "file_extension": ".py",
   "mimetype": "text/x-python",
   "name": "python",
   "nbconvert_exporter": "python",
   "pygments_lexer": "ipython3",
   "version": "3.10.16"
  }
 },
 "nbformat": 4,
 "nbformat_minor": 5
}
