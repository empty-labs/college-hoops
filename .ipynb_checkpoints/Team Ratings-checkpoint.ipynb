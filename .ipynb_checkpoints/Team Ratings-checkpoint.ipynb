{
 "cells": [
  {
   "cell_type": "markdown",
   "id": "3ffedcd9-d96b-4d56-b36b-58f396a72495",
   "metadata": {},
   "source": [
    "# Team Ratings"
   ]
  },
  {
   "cell_type": "code",
   "execution_count": null,
   "id": "db9d2fd6-9bd7-411e-bef2-ad6dce85e898",
   "metadata": {},
   "outputs": [],
   "source": [
    "# Local libraries\n",
    "import Tools.ratings_utils as ru\n",
    "\n",
    "FILENAME = \"Data/data_2024.json\"\n",
    "TOURNAMENT_FILENAME = \"Data/tournament_2024.csv\"\n",
    "\n",
    "\n",
    "score_df = ru.set_rating_data_frame(filename=FILENAME)"
   ]
  },
  {
   "cell_type": "markdown",
   "id": "1ba74e55-b2f0-4b4d-951d-b5fa193c2497",
   "metadata": {},
   "source": [
    "## Massey Ratings"
   ]
  },
  {
   "cell_type": "code",
   "execution_count": null,
   "id": "530fd323-e87f-4d69-bb0b-1d5052b7058c",
   "metadata": {},
   "outputs": [],
   "source": [
    "massey_ratings = ru.calculate_massey_ratings(score_df=score_df,\n",
    "                                             debug=False)\n",
    "\n",
    "_ = ru.simulate_tournament(filename=TOURNAMENT_FILENAME,\n",
    "                           ratings=massey_ratings)"
   ]
  },
  {
   "cell_type": "markdown",
   "id": "c3ad93f6-d13e-419a-b517-0eebfcc2aa23",
   "metadata": {},
   "source": [
    "# Colley Ratings"
   ]
  },
  {
   "cell_type": "code",
   "execution_count": null,
   "id": "acc924b2-87d9-4218-b87f-3984bf066201",
   "metadata": {},
   "outputs": [],
   "source": [
    "colley_ratings = ru.calculate_colley_ratings(score_df=score_df,\n",
    "                                             debug=False)\n",
    "\n",
    "_ = ru.simulate_tournament(filename=TOURNAMENT_FILENAME,\n",
    "                           ratings=colley_ratings)"
   ]
  },
  {
   "cell_type": "markdown",
   "id": "da1e35d9-a2ff-4aa0-ab23-2be5acd10f4e",
   "metadata": {},
   "source": [
    "# Elo Ratings"
   ]
  },
  {
   "cell_type": "code",
   "execution_count": null,
   "id": "0f4fff3e-faa7-4fa5-ad86-25796d7006c5",
   "metadata": {},
   "outputs": [],
   "source": [
    "adj_elo_ratings = ru.calculate_elo_ratings(score_df=score_df,\n",
    "                                           K=30,\n",
    "                                           debug=False,\n",
    "                                           adjust_K=True)\n",
    "\n",
    "_ = ru.simulate_tournament(filename=TOURNAMENT_FILENAME,\n",
    "                           ratings=adj_elo_ratings)"
   ]
  },
  {
   "cell_type": "code",
   "execution_count": null,
   "id": "5d02e887-3a7e-4ce0-ae95-d1c983670edb",
   "metadata": {},
   "outputs": [],
   "source": [
    "elo_ratings = ru.calculate_elo_ratings(score_df=score_df,\n",
    "                                       K=30,\n",
    "                                       debug=False,\n",
    "                                       adjust_K=False)\n",
    "\n",
    "_ = ru.simulate_tournament(filename=TOURNAMENT_FILENAME,\n",
    "                           ratings=elo_ratings)"
   ]
  },
  {
   "cell_type": "markdown",
   "id": "6892f457-c431-4ec6-adef-eb918376f89d",
   "metadata": {},
   "source": [
    "# Combined Ratings"
   ]
  },
  {
   "cell_type": "code",
   "execution_count": null,
   "id": "aec8e556-8e80-4c72-85ee-f2d95a4d731f",
   "metadata": {},
   "outputs": [],
   "source": [
    "import numpy as np\n",
    "\n",
    "def normalize_ratings(ratings: dict, weight: float=1):\n",
    "    \"\"\"Normalize rating values between 0 and 1\n",
    "\n",
    "    Args:\n",
    "        ratings (dict): dictionary of ratings\n",
    "        weight (float): scaled value applied to normalized rating systems\n",
    "        \n",
    "    Returns:\n",
    "        normalized_dict (dict): dictionary of normalized ratings\n",
    "    \"\"\"\n",
    "\n",
    "    values = list(ratings.values())  # [15, 20, 30]\n",
    "    \n",
    "    # Min-Max Scaling\n",
    "    min_val = min(ratings.values())\n",
    "    max_val = max(ratings.values())\n",
    "    \n",
    "    normalized_dict = {k: weight * (v - min_val) / (max_val - min_val) for k, v in ratings.items()}\n",
    "    normalized_values = list(normalized_dict.values())  # [15, 20, 30]\n",
    "    \n",
    "    return normalized_dict\n"
   ]
  },
  {
   "cell_type": "code",
   "execution_count": null,
   "id": "11cbf51e-f432-48be-bec4-b43cb351e31d",
   "metadata": {},
   "outputs": [],
   "source": [
    "step = 0.2\n",
    "iterations = int((1 / step) + 1)\n",
    "total_iterations = 0\n",
    "\n",
    "weight_dict = {'Massey': [], 'Colley': [], 'Adjusted Elo': [], 'Elo': [], 'Correct': []}\n",
    "\n",
    "for i in range(iterations):\n",
    "    for j in range(iterations):\n",
    "        for k in range(iterations):\n",
    "            for l in range(iterations):\n",
    "                total_iterations += 1\n",
    "                \n",
    "                w1 = i * step\n",
    "                w2 = j * step\n",
    "                w3 = k * step\n",
    "                w4 = l * step\n",
    "    \n",
    "                # Normalize weights\n",
    "                # min_w = min([w1, w2, w3])\n",
    "                # max_w = max([w1, w2, w3])\n",
    "                # if max_w - min_w > 0:\n",
    "                #     w1 = (w1 - min_w) / (max_w - min_w)\n",
    "                #     w2 = (w2 - min_w) / (max_w - min_w)\n",
    "                #     w3 = (w3 - min_w) / (max_w - min_w)\n",
    "    \n",
    "                normalized_massey_ratings = normalize_ratings(ratings=massey_ratings, weight=w1)\n",
    "                normalized_colley_ratings = normalize_ratings(ratings=colley_ratings, weight=w2)\n",
    "                normalized_adj_elo_ratings = normalize_ratings(ratings=adj_elo_ratings, weight=w3)\n",
    "                normalized_elo_ratings = normalize_ratings(ratings=elo_ratings, weight=w4)\n",
    "                \n",
    "                combined_ratings = {}\n",
    "                \n",
    "                for key, v in normalized_massey_ratings.items():\n",
    "                    combined_ratings[key] = v\n",
    "                for key, v in normalized_colley_ratings.items():\n",
    "                    combined_ratings[key] += v\n",
    "                for key, v in normalized_adj_elo_ratings.items():\n",
    "                    combined_ratings[key] += v\n",
    "                for key, v in normalized_elo_ratings.items():\n",
    "                    combined_ratings[key] += v\n",
    "                \n",
    "                total_correct_picks = ru.simulate_tournament(filename=TOURNAMENT_FILENAME,\n",
    "                                                             ratings=combined_ratings,\n",
    "                                                             debug=False)\n",
    "            \n",
    "                weight_dict['Massey'].append(w1)\n",
    "                weight_dict['Colley'].append(w2)\n",
    "                weight_dict['Adjusted Elo'].append(w3)\n",
    "                weight_dict['Elo'].append(w4)\n",
    "                weight_dict['Correct'].append(total_correct_picks)\n",
    "\n",
    "max_correct = max(weight_dict['Correct'])\n",
    "print(f\"Max correct picks: {max_correct} in {total_iterations} iterations\")\n",
    "\n",
    "num_max = 0\n",
    "\n",
    "for i in range(len(weight_dict['Correct'])):\n",
    "\n",
    "    if weight_dict['Correct'][i] == max_correct:\n",
    "        num_max += 1\n",
    "        print(f\"{num_max}. Massey: {weight_dict['Massey'][i]:.3f}, Colley: {weight_dict['Colley'][i]:.3f}, Adjusted Elo: {weight_dict['Adjusted Elo'][i]:.3f}, Elo: {weight_dict['Elo'][i]:.3f}\")\n"
   ]
  },
  {
   "cell_type": "markdown",
   "id": "baaf798c-e9a2-4141-8cf8-be87569189fc",
   "metadata": {},
   "source": [
    "# Test code"
   ]
  },
  {
   "cell_type": "code",
   "execution_count": null,
   "id": "e826019a-e94f-4d02-bd1f-b08668df8fc8",
   "metadata": {},
   "outputs": [],
   "source": [
    "# Currently unused (save for Massey, Colley, Elo Ratings)\n",
    "tournament = Tournament.Tournament(url=TOURNAMENT_URL,\n",
    "                                   debug=True)"
   ]
  },
  {
   "cell_type": "code",
   "execution_count": null,
   "id": "b642453a-d7b8-4a30-babd-d1f26837da14",
   "metadata": {},
   "outputs": [],
   "source": [
    "# # Check results manually\n",
    "# import csv\n",
    "\n",
    "# # Convert dictionary to a CSV-friendly format\n",
    "# with open(\"teams.csv\", mode=\"w\", newline=\"\") as file:\n",
    "#     writer = csv.writer(file)\n",
    "\n",
    "#     keys = list(tourney_dict.keys())\n",
    "#     writer.writerow(keys)  # Header\n",
    "\n",
    "#     for i in range(len(tourney_dict[keys[0]])):\n",
    "#         row = []\n",
    "#         for key in keys:\n",
    "#             row.append(tourney_dict[key][i])\n",
    "#         writer.writerow(row)  # Combine team name with stats"
   ]
  },
  {
   "cell_type": "code",
   "execution_count": null,
   "id": "eecdb58c-92d2-4a15-8532-4f34b6fdc702",
   "metadata": {},
   "outputs": [],
   "source": []
  }
 ],
 "metadata": {
  "kernelspec": {
   "display_name": "college-hoops",
   "language": "python",
   "name": "college-hoops"
  },
  "language_info": {
   "codemirror_mode": {
    "name": "ipython",
    "version": 3
   },
   "file_extension": ".py",
   "mimetype": "text/x-python",
   "name": "python",
   "nbconvert_exporter": "python",
   "pygments_lexer": "ipython3",
   "version": "3.10.16"
  }
 },
 "nbformat": 4,
 "nbformat_minor": 5
}
