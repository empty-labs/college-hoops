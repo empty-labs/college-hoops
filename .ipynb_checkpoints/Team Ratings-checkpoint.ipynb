{
 "cells": [
  {
   "cell_type": "markdown",
   "id": "3ffedcd9-d96b-4d56-b36b-58f396a72495",
   "metadata": {},
   "source": [
    "# Team Ratings"
   ]
  },
  {
   "cell_type": "code",
   "execution_count": null,
   "id": "db9d2fd6-9bd7-411e-bef2-ad6dce85e898",
   "metadata": {},
   "outputs": [],
   "source": [
    "# Local libraries\n",
    "import Tools.ratings_utils as ru\n",
    "\n",
    "YEAR = 2023\n",
    "FILENAME = f\"Data/data_{YEAR}.json\"\n",
    "TOURNAMENT_FILENAME = f\"Data/tournament_{YEAR}.csv\"\n",
    "\n",
    "\n",
    "score_df = ru.set_rating_data_frame(filename=FILENAME)"
   ]
  },
  {
   "cell_type": "markdown",
   "id": "1ba74e55-b2f0-4b4d-951d-b5fa193c2497",
   "metadata": {},
   "source": [
    "## Massey Ratings"
   ]
  },
  {
   "cell_type": "code",
   "execution_count": null,
   "id": "530fd323-e87f-4d69-bb0b-1d5052b7058c",
   "metadata": {},
   "outputs": [],
   "source": [
    "massey_ratings = ru.calculate_massey_ratings(score_df=score_df,\n",
    "                                             debug=False)\n",
    "\n",
    "_ = ru.simulate_tournament(filename=TOURNAMENT_FILENAME,\n",
    "                           ratings=massey_ratings)"
   ]
  },
  {
   "cell_type": "markdown",
   "id": "c3ad93f6-d13e-419a-b517-0eebfcc2aa23",
   "metadata": {},
   "source": [
    "# Colley Ratings"
   ]
  },
  {
   "cell_type": "code",
   "execution_count": null,
   "id": "acc924b2-87d9-4218-b87f-3984bf066201",
   "metadata": {},
   "outputs": [],
   "source": [
    "colley_ratings = ru.calculate_colley_ratings(score_df=score_df,\n",
    "                                             debug=False)\n",
    "\n",
    "_ = ru.simulate_tournament(filename=TOURNAMENT_FILENAME,\n",
    "                           ratings=colley_ratings)"
   ]
  },
  {
   "cell_type": "markdown",
   "id": "da1e35d9-a2ff-4aa0-ab23-2be5acd10f4e",
   "metadata": {},
   "source": [
    "# Elo Ratings"
   ]
  },
  {
   "cell_type": "code",
   "execution_count": null,
   "id": "0f4fff3e-faa7-4fa5-ad86-25796d7006c5",
   "metadata": {},
   "outputs": [],
   "source": [
    "adj_elo_ratings = ru.calculate_elo_ratings(score_df=score_df,\n",
    "                                           K=30,\n",
    "                                           debug=False,\n",
    "                                           adjust_K=True)\n",
    "\n",
    "_ = ru.simulate_tournament(filename=TOURNAMENT_FILENAME,\n",
    "                           ratings=adj_elo_ratings)"
   ]
  },
  {
   "cell_type": "code",
   "execution_count": null,
   "id": "5d02e887-3a7e-4ce0-ae95-d1c983670edb",
   "metadata": {},
   "outputs": [],
   "source": [
    "elo_ratings = ru.calculate_elo_ratings(score_df=score_df,\n",
    "                                       K=30,\n",
    "                                       debug=False,\n",
    "                                       adjust_K=False)\n",
    "\n",
    "_ = ru.simulate_tournament(filename=TOURNAMENT_FILENAME,\n",
    "                           ratings=elo_ratings)"
   ]
  },
  {
   "cell_type": "markdown",
   "id": "0292c8e7-f87c-43a6-9807-eafc37c70e8f",
   "metadata": {},
   "source": [
    "# SRS Ratings"
   ]
  },
  {
   "cell_type": "code",
   "execution_count": null,
   "id": "a3654c25-079e-4142-911f-36e9b6c7e560",
   "metadata": {},
   "outputs": [],
   "source": [
    "srs_ratings = ru.compile_srs_ratings(filename=FILENAME)\n",
    "\n",
    "_ = ru.simulate_tournament(filename=TOURNAMENT_FILENAME,\n",
    "                           ratings=srs_ratings)"
   ]
  },
  {
   "cell_type": "markdown",
   "id": "6892f457-c431-4ec6-adef-eb918376f89d",
   "metadata": {},
   "source": [
    "# Combined Ratings"
   ]
  },
  {
   "cell_type": "code",
   "execution_count": null,
   "id": "11cbf51e-f432-48be-bec4-b43cb351e31d",
   "metadata": {},
   "outputs": [],
   "source": [
    "ru.apply_ratings_weights_to_maximize_correct_picks(massey_ratings=massey_ratings,\n",
    "                                                   colley_ratings=colley_ratings,\n",
    "                                                   adj_elo_ratings=adj_elo_ratings,\n",
    "                                                   elo_ratings=elo_ratings,\n",
    "                                                   tournament_filename=TOURNAMENT_FILENAME)"
   ]
  },
  {
   "cell_type": "markdown",
   "id": "baaf798c-e9a2-4141-8cf8-be87569189fc",
   "metadata": {},
   "source": [
    "# Test code"
   ]
  },
  {
   "cell_type": "code",
   "execution_count": null,
   "id": "e826019a-e94f-4d02-bd1f-b08668df8fc8",
   "metadata": {},
   "outputs": [],
   "source": [
    "# Currently unused (save for Massey, Colley, Elo Ratings)\n",
    "tournament = Tournament.Tournament(url=TOURNAMENT_URL,\n",
    "                                   debug=True)"
   ]
  },
  {
   "cell_type": "code",
   "execution_count": null,
   "id": "b642453a-d7b8-4a30-babd-d1f26837da14",
   "metadata": {},
   "outputs": [],
   "source": [
    "# # Check results manually\n",
    "# import csv\n",
    "\n",
    "# # Convert dictionary to a CSV-friendly format\n",
    "# with open(\"teams.csv\", mode=\"w\", newline=\"\") as file:\n",
    "#     writer = csv.writer(file)\n",
    "\n",
    "#     keys = list(tourney_dict.keys())\n",
    "#     writer.writerow(keys)  # Header\n",
    "\n",
    "#     for i in range(len(tourney_dict[keys[0]])):\n",
    "#         row = []\n",
    "#         for key in keys:\n",
    "#             row.append(tourney_dict[key][i])\n",
    "#         writer.writerow(row)  # Combine team name with stats"
   ]
  },
  {
   "cell_type": "code",
   "execution_count": null,
   "id": "eecdb58c-92d2-4a15-8532-4f34b6fdc702",
   "metadata": {},
   "outputs": [],
   "source": []
  }
 ],
 "metadata": {
  "kernelspec": {
   "display_name": "college-hoops",
   "language": "python",
   "name": "college-hoops"
  },
  "language_info": {
   "codemirror_mode": {
    "name": "ipython",
    "version": 3
   },
   "file_extension": ".py",
   "mimetype": "text/x-python",
   "name": "python",
   "nbconvert_exporter": "python",
   "pygments_lexer": "ipython3",
   "version": "3.10.16"
  }
 },
 "nbformat": 4,
 "nbformat_minor": 5
}
