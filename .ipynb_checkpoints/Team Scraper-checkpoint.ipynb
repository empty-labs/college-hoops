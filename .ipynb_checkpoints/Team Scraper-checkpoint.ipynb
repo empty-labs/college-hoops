{
 "cells": [
  {
   "cell_type": "markdown",
   "id": "eb154986-cd44-4d85-99e0-fba4f56aea63",
   "metadata": {},
   "source": [
    "# Team Scraper"
   ]
  },
  {
   "cell_type": "code",
   "execution_count": 1,
   "id": "ee96e4ac-e2f0-4349-9e55-46a716ad2844",
   "metadata": {},
   "outputs": [],
   "source": [
    "import Classes.TeamList as TeamList\n",
    "import Classes.Team as Team"
   ]
  },
  {
   "cell_type": "markdown",
   "id": "02e3a430-fce0-4398-b836-d9a0c64e8904",
   "metadata": {},
   "source": [
    "# Team"
   ]
  },
  {
   "cell_type": "code",
   "execution_count": 2,
   "id": "f1a3d372-82a2-4099-a5ee-4bbd0bc85ee8",
   "metadata": {},
   "outputs": [],
   "source": [
    "test_url = \"https://www.sports-reference.com/cbb/schools/kansas/2024-schedule.html\"\n",
    "team1 = Team.Team(url=test_url)\n",
    "\n",
    "test_url = \"https://www.sports-reference.com/cbb/schools/arkansas/men/2024-schedule.html\"\n",
    "team2 = Team.Team(url=test_url)"
   ]
  },
  {
   "cell_type": "code",
   "execution_count": 3,
   "id": "5d9fdfdb-358b-48f0-8c6b-7e7d14a57f76",
   "metadata": {},
   "outputs": [
    {
     "name": "stdout",
     "output_type": "stream",
     "text": [
      "{'Kansas': {'G': ['1', '2', '3', '4', '5', '6', '7', '8', '9', '10', '11', '12', '13', '14', '15', '16', '17', '18', '19', '20', '21', '22', '23', '24', '25', '26', '27', '28', '29', '30', '31', '32', '33', '34'], 'Date': ['Mon, Nov 6, 2023', 'Fri, Nov 10, 2023', 'Tue, Nov 14, 2023', 'Mon, Nov 20, 2023', 'Tue, Nov 21, 2023', 'Wed, Nov 22, 2023', 'Tue, Nov 28, 2023', 'Fri, Dec 1, 2023', 'Tue, Dec 5, 2023', 'Sat, Dec 9, 2023', 'Sat, Dec 16, 2023', 'Fri, Dec 22, 2023', 'Sat, Dec 30, 2023', 'Sat, Jan 6, 2024', 'Wed, Jan 10, 2024', 'Sat, Jan 13, 2024', 'Tue, Jan 16, 2024', 'Sat, Jan 20, 2024', 'Mon, Jan 22, 2024', 'Sat, Jan 27, 2024', 'Tue, Jan 30, 2024', 'Sat, Feb 3, 2024', 'Mon, Feb 5, 2024', 'Sat, Feb 10, 2024', 'Mon, Feb 12, 2024', 'Sat, Feb 17, 2024', 'Sat, Feb 24, 2024', 'Tue, Feb 27, 2024', 'Sat, Mar 2, 2024', 'Tue, Mar 5, 2024', 'Sat, Mar 9, 2024', 'Wed, Mar 13, 2024', 'Thu, Mar 21, 2024', 'Sat, Mar 23, 2024'], 'Time': ['8:00p', '8:00p', '9:30p', '9:00p', '10:30p', '2:30p', '8:00p', '9:00p', '8:00p', '5:15p', '12:30p', '8:00p', '4:00p', '2:00p', '7:00p', '2:00p', '9:00p', '4:00p', '9:00p', '1:30p', '9:00p', '4:00p', '9:00p', '6:00p', '9:00p', '4:00p', '6:00p', '8:00p', '1:00p', '9:00p', '4:00p', '9:30p', '9:55p', '3:15p'], 'Type': ['REG', 'REG', 'REG', 'REG', 'REG', 'REG', 'REG', 'REG', 'REG', 'REG', 'REG', 'REG', 'REG', 'REG', 'REG', 'REG', 'REG', 'REG', 'REG', 'REG', 'REG', 'REG', 'REG', 'REG', 'REG', 'REG', 'REG', 'REG', 'REG', 'REG', 'REG', 'CTOURN', 'NCAA', 'NCAA'], 'Site': [nan, nan, 'N', 'N', 'N', 'N', nan, nan, nan, nan, '@', nan, 'N', nan, '@', nan, '@', '@', nan, '@', nan, nan, '@', nan, '@', '@', nan, nan, '@', nan, '@', 'N', 'N', 'N'], 'Opponent': ['North Carolina Central', 'Manhattan', 'Kentucky', 'Chaminade', 'Marquette', 'Tennessee', 'Eastern Illinois', 'Connecticut', 'Kansas City', 'Missouri', 'Indiana', 'Yale', 'Wichita State', 'TCU', 'UCF', 'Oklahoma', 'Oklahoma State', 'West Virginia', 'Cincinnati', 'Iowa State', 'Oklahoma State', 'Houston', 'Kansas State', 'Baylor', 'Texas Tech', 'Oklahoma', 'Texas', 'Brigham Young', 'Baylor', 'Kansas State', 'Houston', 'Cincinnati', 'Samford', 'Gonzaga'], 'Conf': ['MEAC', 'MAAC', 'SEC', nan, 'Big East', 'SEC', 'OVC', 'Big East', 'Summit', 'SEC', 'Big Ten', 'Ivy', 'AAC', 'Big 12', 'Big 12', 'Big 12', 'Big 12', 'Big 12', 'Big 12', 'Big 12', 'Big 12', 'Big 12', 'Big 12', 'Big 12', 'Big 12', 'Big 12', 'Big 12', 'Big 12', 'Big 12', 'Big 12', 'Big 12', 'Big 12', 'Southern', 'WCC'], 'SRS': ['-7.88', '-15.28', '16.79', nan, '19.27', '21.81', '-11.60', '26.70', '-5.32', '3.27', '7.74', '4.63', '2.02', '14.62', '11.92', '14.66', '6.25', '3.73', '15.06', '22.30', '6.25', '25.69', '11.06', '19.50', '14.96', '14.66', '15.91', '19.33', '19.50', '11.06', '25.69', '15.06', '6.32', '17.93'], 'Outcome': ['W', 'W', 'W', 'W', 'L', 'W', 'W', 'W', 'W', 'W', 'W', 'W', 'W', 'W', 'L', 'W', 'W', 'L', 'W', 'L', 'W', 'W', 'L', 'W', 'L', 'W', 'W', 'L', 'L', 'W', 'L', 'L', 'W', 'L'], 'Tm': ['99', '99', '89', '83', '59', '69', '71', '69', '88', '73', '75', '75', '86', '83', '60', '78', '90', '85', '74', '75', '83', '78', '70', '64', '50', '67', '86', '68', '74', '90', '46', '52', '93', '68'], 'Opp': ['56', '61', '84', '56', '73', '60', '63', '65', '69', '64', '71', '60', '67', '81', '65', '66', '66', '91', '69', '79', '54', '65', '75', '61', '79', '57', '67', '76', '82', '68', '76', '72', '89', '89'], 'OT': [nan, nan, nan, nan, nan, nan, nan, nan, nan, nan, nan, nan, nan, nan, nan, nan, nan, nan, nan, nan, nan, nan, 'OT', nan, nan, nan, nan, nan, nan, nan, nan, nan, nan, nan], 'W': ['1', '2', '3', '4', '4', '5', '6', '7', '8', '9', '10', '11', '12', '13', '13', '14', '15', '15', '16', '16', '17', '18', '18', '19', '19', '20', '21', '21', '21', '22', '22', '22', '23', '23'], 'L': ['0', '0', '0', '0', '1', '1', '1', '1', '1', '1', '1', '1', '1', '1', '2', '2', '2', '3', '3', '4', '4', '4', '5', '5', '6', '6', '6', '7', '8', '8', '9', '10', '10', '11'], 'Streak': ['W 1', 'W 2', 'W 3', 'W 4', 'L 1', 'W 1', 'W 2', 'W 3', 'W 4', 'W 5', 'W 6', 'W 7', 'W 8', 'W 9', 'L 1', 'W 1', 'W 2', 'L 1', 'W 1', 'L 1', 'W 1', 'W 2', 'L 1', 'W 1', 'L 1', 'W 1', 'W 2', 'L 1', 'L 2', 'W 1', 'L 1', 'L 2', 'W 1', 'L 1'], 'Arena': ['Allen Fieldhouse', 'Allen Fieldhouse', 'United Center', 'Stan Sheriff Center', 'Stan Sheriff Center', 'Stan Sheriff Center', 'Allen Fieldhouse', 'Allen Fieldhouse', 'Allen Fieldhouse', 'Allen Fieldhouse', 'Simon Skjodt Assembly Hall', 'Allen Fieldhouse', 'T-Mobile Center', 'Allen Fieldhouse', 'Addition Financial Arena', 'Allen Fieldhouse', 'Gallagher-Iba Arena', 'WVU Coliseum', 'Allen Fieldhouse', 'James H. Hilton Coliseum', 'Allen Fieldhouse', 'Allen Fieldhouse', 'Bramlage Coliseum', 'Allen Fieldhouse', 'United Supermarkets Arena', 'Lloyd Noble Center', 'Allen Fieldhouse', 'Allen Fieldhouse', nan, 'Allen Fieldhouse', 'Fertitta Center', 'T-Mobile Center', 'Vivint Arena', 'Vivint Arena']}, 'Arkansas': {'G': ['1', '2', '3', '4', '5', '6', '7', '8', '9', '10', '11', '12', '13', '14', '15', '16', '17', '18', '19', '20', '21', '22', '23', '24', '25', '26', '27', '28', '29', '30', '31', '32', '33'], 'Date': ['Mon, Nov 6, 2023', 'Fri, Nov 10, 2023', 'Mon, Nov 13, 2023', 'Fri, Nov 17, 2023', 'Wed, Nov 22, 2023', 'Thu, Nov 23, 2023', 'Fri, Nov 24, 2023', 'Wed, Nov 29, 2023', 'Mon, Dec 4, 2023', 'Sat, Dec 9, 2023', 'Sat, Dec 16, 2023', 'Thu, Dec 21, 2023', 'Sat, Dec 30, 2023', 'Sat, Jan 6, 2024', 'Wed, Jan 10, 2024', 'Sat, Jan 13, 2024', 'Tue, Jan 16, 2024', 'Sat, Jan 20, 2024', 'Wed, Jan 24, 2024', 'Sat, Jan 27, 2024', 'Wed, Jan 31, 2024', 'Sat, Feb 3, 2024', 'Sat, Feb 10, 2024', 'Wed, Feb 14, 2024', 'Sat, Feb 17, 2024', 'Tue, Feb 20, 2024', 'Sat, Feb 24, 2024', 'Tue, Feb 27, 2024', 'Sat, Mar 2, 2024', 'Wed, Mar 6, 2024', 'Sat, Mar 9, 2024', 'Wed, Mar 13, 2024', 'Thu, Mar 14, 2024'], 'Time': ['8:00p', '8:00p', '8:00p', '8:00p', '7:30p', '5:00p', '1:00p', '9:15p', '8:00p', '4:00p', '6:00p', '7:00p', '6:00p', '2:00p', '9:00p', '4:00p', '9:00p', '1:00p', '9:00p', '6:00p', '8:30p', '12:00p', '6:00p', '9:00p', '2:00p', '7:00p', '12:00p', '9:00p', '1:30p', '7:00p', '12:00p', '7:00p', '3:30p'], 'Type': ['REG', 'REG', 'REG', 'REG', 'REG', 'REG', 'REG', 'REG', 'REG', 'REG', 'REG', 'REG', 'REG', 'REG', 'REG', 'REG', 'REG', 'REG', 'REG', 'REG', 'REG', 'REG', 'REG', 'REG', 'REG', 'REG', 'REG', 'REG', 'REG', 'REG', 'REG', 'CTOURN', 'CTOURN'], 'Site': [nan, nan, nan, nan, 'N', 'N', 'N', nan, nan, 'N', nan, nan, nan, nan, '@', '@', nan, nan, '@', nan, '@', '@', nan, nan, '@', '@', nan, nan, '@', nan, '@', 'N', 'N'], 'Opponent': ['Alcorn State', 'Gardner-Webb', 'Old Dominion', 'UNC Greensboro', 'Stanford', 'Memphis', 'North Carolina', 'Duke', 'Furman', 'Oklahoma', 'Lipscomb', 'Abilene Christian', 'UNC Wilmington', 'Auburn', 'Georgia', 'Florida', 'Texas A&M', 'South Carolina', 'Mississippi', 'Kentucky', 'Missouri', 'Louisiana State', 'Georgia', 'Tennessee', 'Mississippi State', 'Texas A&M', 'Missouri', 'Vanderbilt', 'Kentucky', 'Louisiana State', 'Alabama', 'Vanderbilt', 'South Carolina'], 'Conf': ['SWAC', 'Big South', 'Sun Belt', 'Southern', 'Pac-12', 'AAC', 'ACC', 'ACC', 'Southern', 'Big 12', 'A-Sun', 'WAC', 'CAA', 'SEC', 'SEC', 'SEC', 'SEC', 'SEC', 'SEC', 'SEC', 'SEC', 'SEC', 'SEC', 'SEC', 'SEC', 'SEC', 'SEC', 'SEC', 'SEC', 'SEC', 'SEC', 'SEC', 'SEC'], 'SRS': ['-11.58', '-4.66', '-8.35', '-0.27', '7.35', '9.00', '21.36', '20.67', '0.21', '14.66', '-1.94', '-4.12', '1.21', '22.46', '8.63', '15.17', '13.35', '10.98', '8.30', '16.79', '3.27', '8.14', '8.63', '21.81', '14.19', '13.35', '3.27', '0.19', '16.79', '8.14', '20.69', '0.19', '10.98'], 'Outcome': ['W', 'W', 'W', 'L', 'W', 'L', 'L', 'W', 'W', 'L', 'W', 'W', 'W', 'L', 'L', 'L', 'W', 'L', 'L', 'L', 'W', 'L', 'W', 'L', 'L', 'W', 'W', 'L', 'L', 'W', 'L', 'W', 'L'], 'Tm': ['93', '86', '86', '72', '77', '79', '72', '80', '97', '70', '69', '83', '106', '51', '66', '68', '78', '64', '51', '57', '91', '74', '78', '63', '67', '78', '88', '82', '102', '94', '88', '90', '66'], 'Opp': ['59', '68', '77', '78', '74', '84', '87', '75', '83', '79', '66', '73', '90', '83', '76', '90', '77', '77', '77', '63', '84', '95', '75', '92', '71', '71', '73', '85', '111', '83', '92', '85', '80'], 'OT': [nan, nan, nan, nan, '2OT', nan, nan, nan, nan, nan, nan, nan, nan, nan, nan, nan, nan, nan, nan, nan, nan, nan, nan, nan, nan, nan, nan, nan, nan, nan, 'OT', 'OT', nan], 'W': ['1', '2', '3', '3', '4', '4', '4', '5', '6', '6', '7', '8', '9', '9', '9', '9', '10', '10', '10', '10', '11', '11', '12', '12', '12', '13', '14', '14', '14', '15', '15', '16', '16'], 'L': ['0', '0', '0', '1', '1', '2', '3', '3', '3', '4', '4', '4', '4', '5', '6', '7', '7', '8', '9', '10', '10', '11', '11', '12', '13', '13', '13', '14', '15', '15', '16', '16', '17'], 'Streak': ['W 1', 'W 2', 'W 3', 'L 1', 'W 1', 'L 1', 'L 2', 'W 1', 'W 2', 'L 1', 'W 1', 'W 2', 'W 3', 'L 1', 'L 2', 'L 3', 'W 1', 'L 1', 'L 2', 'L 3', 'W 1', 'L 1', 'W 1', 'L 1', 'L 2', 'W 1', 'W 2', 'L 1', 'L 2', 'W 1', 'L 1', 'W 1', 'L 1'], 'Arena': ['Bud Walton Arena', 'Bud Walton Arena', 'Bud Walton Arena', 'Bud Walton Arena', 'Imperial Arena at Atlantis Resort', 'Imperial Arena at Atlantis Resort', 'Imperial Arena at Atlantis Resort', 'Bud Walton Arena', 'Bud Walton Arena', 'BOK Center', 'Simmons Bank Arena', 'Bud Walton Arena', 'Bud Walton Arena', 'Bud Walton Arena', 'Stegeman Coliseum', \"Stephen C. O''Connell Center\", 'Bud Walton Arena', 'Bud Walton Arena', 'The Sandy and John Black Pavilion at Ole Miss', 'Bud Walton Arena', 'Mizzou Arena', 'Maravich Assembly Center', 'Bud Walton Arena', 'Bud Walton Arena', 'Humphrey Coliseum', 'Reed Arena', 'Bud Walton Arena', 'Bud Walton Arena', 'Rupp Arena', 'Bud Walton Arena', 'Coleman Coliseum', 'Bridgestone Arena', 'Bridgestone Arena']}}\n"
     ]
    }
   ],
   "source": [
    "dct = {}\n",
    "dct[\"Kansas\"] = team1.df.to_dict(orient=\"list\")\n",
    "dct[\"Arkansas\"] = team2.df.to_dict(orient=\"list\")\n",
    "print(dct)"
   ]
  },
  {
   "cell_type": "code",
   "execution_count": 4,
   "id": "f477285a-f065-464b-bae4-4c90a6f8c51b",
   "metadata": {},
   "outputs": [],
   "source": [
    "import json\n",
    "\n",
    "# Save to a JSON file\n",
    "with open(\"data_2024.json\", \"w\") as file:\n",
    "    json.dump(dct, file, indent=4)  # `indent=4` makes it more readable"
   ]
  },
  {
   "cell_type": "code",
   "execution_count": 7,
   "id": "9bc62924-41ae-4ad9-b17a-4dfd4ada115f",
   "metadata": {},
   "outputs": [
    {
     "name": "stdout",
     "output_type": "stream",
     "text": [
      "['0', '0', '0', '0', '1', '1', '1', '1', '1', '1', '1', '1', '1', '1', '2', '2', '2', '3', '3', '4', '4', '4', '5', '5', '6', '6', '6', '7', '8', '8', '9', '10', '10', '11']\n"
     ]
    }
   ],
   "source": [
    "import pandas as pd\n",
    "\n",
    "df_loaded = pd.read_json(\"data_2024.json\")\n",
    "print(df_loaded['Kansas'][\"L\"])"
   ]
  },
  {
   "cell_type": "markdown",
   "id": "766ef2d1-f8f7-43de-922e-ba7817e0f5b2",
   "metadata": {},
   "source": [
    "# Team List"
   ]
  },
  {
   "cell_type": "code",
   "execution_count": null,
   "id": "53bcc945-08b1-4f0a-bedc-4b1b9673f839",
   "metadata": {},
   "outputs": [],
   "source": [
    "url = \"https://www.sports-reference.com/cbb/schools/\"\n",
    "team_list = TeamList.TeamList(url=url)"
   ]
  },
  {
   "cell_type": "code",
   "execution_count": null,
   "id": "8d90f09e-15c9-4a41-b833-beafaafeb6ad",
   "metadata": {},
   "outputs": [],
   "source": [
    "URL_SUFFIX = \"2025-schedule.html\"\n",
    "\n",
    "for i in range(len(team_list.df[\"URL\"])):\n",
    "    team_url = team_list.df[\"URL\"][i] + URL_SUFFIX\n",
    "    print(i, team_url)\n",
    "    team = Team.Team(url=team_url)\n",
    "    if team.df is not None:\n",
    "        print(team.df[\"W\"][0], team.df[\"L\"][0])"
   ]
  },
  {
   "cell_type": "code",
   "execution_count": null,
   "id": "b427eb31-665a-4fb8-83f3-db2c1f37ef9d",
   "metadata": {},
   "outputs": [],
   "source": []
  }
 ],
 "metadata": {
  "kernelspec": {
   "display_name": "college-hoops",
   "language": "python",
   "name": "college-hoops"
  },
  "language_info": {
   "codemirror_mode": {
    "name": "ipython",
    "version": 3
   },
   "file_extension": ".py",
   "mimetype": "text/x-python",
   "name": "python",
   "nbconvert_exporter": "python",
   "pygments_lexer": "ipython3",
   "version": "3.10.16"
  }
 },
 "nbformat": 4,
 "nbformat_minor": 5
}
