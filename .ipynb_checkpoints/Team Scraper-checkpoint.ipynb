{
 "cells": [
  {
   "cell_type": "markdown",
   "id": "eb154986-cd44-4d85-99e0-fba4f56aea63",
   "metadata": {},
   "source": [
    "# Team Scraper"
   ]
  },
  {
   "cell_type": "code",
   "execution_count": 4,
   "id": "ee96e4ac-e2f0-4349-9e55-46a716ad2844",
   "metadata": {},
   "outputs": [],
   "source": [
    "# Third party libraries\n",
    "import json\n",
    "import os\n",
    "\n",
    "# Local libraries\n",
    "import Classes.TeamList as TeamList\n",
    "import Classes.Team as Team\n",
    "import Classes.Tournament as Tournament\n",
    "import Tools.json_utils as ju\n",
    "\n",
    "FILENAME = \"Data/data_2024.json\"\n",
    "TOURNAMENT_FILENAME = \"Data/tournament_2024.json\"\n",
    "\n",
    "TEAM_URL = \"https://www.sports-reference.com/cbb/schools/\"\n",
    "TOURNAMENT_URL = \"https://www.espn.com/mens-college-basketball/bracket\" # Manually scrape data\n",
    "URL_SUFFIX = \"2024-schedule.html\""
   ]
  },
  {
   "cell_type": "code",
   "execution_count": 2,
   "id": "af9a3ebf-a8f2-4b5a-b638-e32dd5cc0030",
   "metadata": {},
   "outputs": [],
   "source": [
    "def add_teams_to_json(team_list, filename: str, url_suffix: str):\n",
    "    \"\"\"Add all teams to the JSON file if they don't already exist\n",
    "\n",
    "    Args:\n",
    "        team_list: class holding data frame of all teams\n",
    "        filename (str): Name of JSON team file\n",
    "        url_suffix (str): suffix for URLs\n",
    "    \"\"\"\n",
    "\n",
    "    for i in range(len(team_list.df[\"URL\"])):\n",
    "        team_url = team_list.df[\"URL\"][i] + url_suffix\n",
    "        school = team_list.df[\"School\"][i]\n",
    "        print(f\"{i}. {school}\")\n",
    "\n",
    "        # Check if team exists already\n",
    "        existing_data = None\n",
    "\n",
    "        if os.path.exists(filename) and os.path.getsize(filename) > 0:\n",
    "            with open(filename, \"r\") as file:\n",
    "                existing_data = json.load(file)\n",
    "\n",
    "        if existing_data:\n",
    "\n",
    "            existing_teams = list(existing_data.keys())\n",
    "\n",
    "            # Add data if it doesn't exist already\n",
    "            if school not in existing_teams:\n",
    "\n",
    "                team = Team.Team(url=team_url)\n",
    "\n",
    "                if team.df is not None:\n",
    "                    dct = {}\n",
    "                    dct[school] = team.df.to_dict(orient=\"list\")\n",
    "                    ju.add_dictionary_to_json(dct=dct,\n",
    "                                              filename=filename)\n",
    "                    print(f\"{school} added to JSON successfully.\")           \n",
    "                else:\n",
    "                    print(f\"{school} has no records.\")                    \n",
    "            else:\n",
    "                print(f\"{school} already exists in current JSON.\")\n",
    "\n",
    "    ju.print_team_win_loss(filename=filename)"
   ]
  },
  {
   "cell_type": "markdown",
   "id": "02e3a430-fce0-4398-b836-d9a0c64e8904",
   "metadata": {},
   "source": [
    "# Team"
   ]
  },
  {
   "cell_type": "code",
   "execution_count": null,
   "id": "f1a3d372-82a2-4099-a5ee-4bbd0bc85ee8",
   "metadata": {},
   "outputs": [],
   "source": [
    "test_url = \"https://www.sports-reference.com/cbb/schools/kansas/2024-schedule.html\"\n",
    "team1 = Team.Team(url=test_url)\n",
    "\n",
    "test_url = \"https://www.sports-reference.com/cbb/schools/arkansas/men/2024-schedule.html\"\n",
    "team2 = Team.Team(url=test_url)"
   ]
  },
  {
   "cell_type": "code",
   "execution_count": null,
   "id": "5d9fdfdb-358b-48f0-8c6b-7e7d14a57f76",
   "metadata": {},
   "outputs": [],
   "source": [
    "dct = {}\n",
    "dct[\"Kansas\"] = team1.df.to_dict(orient=\"list\")\n",
    "dct[\"Arkansas\"] = team2.df.to_dict(orient=\"list\")"
   ]
  },
  {
   "cell_type": "code",
   "execution_count": null,
   "id": "f477285a-f065-464b-bae4-4c90a6f8c51b",
   "metadata": {},
   "outputs": [],
   "source": [
    "ju.add_dictionary_to_json(dct=dct,\n",
    "                          filename=FILENAME)\n",
    "ju.print_team_win_loss(filename=FILENAME)"
   ]
  },
  {
   "cell_type": "markdown",
   "id": "766ef2d1-f8f7-43de-922e-ba7817e0f5b2",
   "metadata": {},
   "source": [
    "# Team List"
   ]
  },
  {
   "cell_type": "code",
   "execution_count": null,
   "id": "53bcc945-08b1-4f0a-bedc-4b1b9673f839",
   "metadata": {},
   "outputs": [],
   "source": [
    "team_list = TeamList.TeamList(url=TEAM_URL)"
   ]
  },
  {
   "cell_type": "code",
   "execution_count": null,
   "id": "8d90f09e-15c9-4a41-b833-beafaafeb6ad",
   "metadata": {},
   "outputs": [],
   "source": [
    "add_teams_to_json(team_list=team_list,\n",
    "                  filename=FILENAME,\n",
    "                  url_suffix=URL_SUFFIX)"
   ]
  },
  {
   "cell_type": "markdown",
   "id": "1d1022a0-043a-4bd2-ab22-37d0b1d443cf",
   "metadata": {},
   "source": [
    "# Tournament"
   ]
  },
  {
   "cell_type": "code",
   "execution_count": 5,
   "id": "63e5c676-632a-4b5d-b8d0-fa685527a9d9",
   "metadata": {},
   "outputs": [
    {
     "name": "stdout",
     "output_type": "stream",
     "text": [
      "Debug: True\n",
      "<!DOCTYPE HTML PUBLIC \"-//W3C//DTD HTML 4.01 Transitional//EN\" \"http://www.w3.org/TR/html4/loose.dtd\">\n",
      "\n",
      "<html><head><meta content=\"text/html; charset=utf-8\" http-equiv=\"Content-Type\"/>\n",
      "<title>ERROR: The request could not be satisfied</title>\n",
      "</head><body>\n",
      "<h1>403 ERROR</h1>\n",
      "<h2>The request could not be satisfied.</h2>\n",
      "<hr noshade=\"\" size=\"1px\"/>\n",
      "Request blocked.\n",
      "We can't connect to the server for this app or website at this time. There might be too much traffic or a configuration error. Try again later, or contact the app or website owner.\n",
      "<br clear=\"all\"/>\n",
      "If you provide content to customers through CloudFront, you can find steps to troubleshoot and help prevent this error by reviewing the CloudFront documentation.\n",
      "<br clear=\"all\"/>\n",
      "<hr noshade=\"\" size=\"1px\"/>\n",
      "<pre>\n",
      "Generated by cloudfront (CloudFront)\n",
      "Request ID: ubJSNvqxVtkVpCXVFCxI2zYUOUN6ZoOBMHRqOfCBw94FkVg3aiSPkg==\n",
      "</pre>\n",
      "<address>\n",
      "</address>\n",
      "</body></html>\n",
      "Do I have table?\n",
      "[]\n"
     ]
    }
   ],
   "source": [
    "tournament = Tournament.Tournament(url=TOURNAMENT_URL,\n",
    "                                   debug=True)"
   ]
  },
  {
   "cell_type": "code",
   "execution_count": null,
   "id": "1f9602b8-4d7c-4a46-836a-9777199d1ffc",
   "metadata": {},
   "outputs": [],
   "source": []
  }
 ],
 "metadata": {
  "kernelspec": {
   "display_name": "college-hoops",
   "language": "python",
   "name": "college-hoops"
  },
  "language_info": {
   "codemirror_mode": {
    "name": "ipython",
    "version": 3
   },
   "file_extension": ".py",
   "mimetype": "text/x-python",
   "name": "python",
   "nbconvert_exporter": "python",
   "pygments_lexer": "ipython3",
   "version": "3.10.16"
  }
 },
 "nbformat": 4,
 "nbformat_minor": 5
}
