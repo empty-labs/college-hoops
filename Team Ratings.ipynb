{
 "cells": [
  {
   "cell_type": "markdown",
   "id": "3ffedcd9-d96b-4d56-b36b-58f396a72495",
   "metadata": {},
   "source": [
    "# Team Ratings"
   ]
  },
  {
   "cell_type": "code",
   "execution_count": null,
   "id": "db9d2fd6-9bd7-411e-bef2-ad6dce85e898",
   "metadata": {},
   "outputs": [],
   "source": [
    "# Local libraries\n",
    "import Tools.ratings_utils as ru\n",
    "import Tools.system_utils as sys\n",
    "\n",
    "YEAR = 2025\n",
    "FILENAME = f\"Data/Seasons/data_{YEAR}.json\"\n",
    "TOURNAMENT_FILENAME = f\"Data/Tournaments/tournament_{YEAR}.csv\"\n",
    "PICKS_FILENAME = f\"Data/Tournament Picks/picks_{YEAR}.csv\"\n",
    "\n",
    "\n",
    "# Create data frame for valid teams in the current season that can be used for tournament simulation\n",
    "score_df = ru.set_rating_data_frame(filename=FILENAME)"
   ]
  },
  {
   "cell_type": "markdown",
   "id": "428e5d72-72a5-4c8d-97c5-f00baa395f64",
   "metadata": {},
   "source": [
    "### Multiple Seasons"
   ]
  },
  {
   "cell_type": "code",
   "execution_count": null,
   "id": "14f26432-d1d4-4215-8b72-f2952f4ab776",
   "metadata": {},
   "outputs": [],
   "source": [
    "import pandas as pd\n",
    "\n",
    "YEARS = [2021, 2022, 2023, 2024, 2025]\n",
    "# YEARS = [2021, 2022, 2023, 2024]\n",
    "# YEARS = [2021, 2022, 2023]\n",
    "# YEARS = [2021, 2022]\n",
    "\n",
    "\n",
    "for YEAR in YEARS:\n",
    "    FILENAME = f\"Data/Seasons/data_{YEAR}.json\"\n",
    "    TOURNAMENT_FILENAME = f\"Data/Tournaments/tournament_{YEAR}.csv\"\n",
    "    PICKS_FILENAME = f\"Data/Tournament Picks/picks_{YEAR}.csv\"\n",
    "    \n",
    "    if YEAR is YEARS[0]:\n",
    "        # Create data frame for valid teams in the current season that can be used for tournament simulation\n",
    "        score_df = ru.set_rating_data_frame(filename=FILENAME)\n",
    "    else:\n",
    "        # Concatenate\n",
    "        new_season_score_df = ru.set_rating_data_frame(filename=FILENAME)\n",
    "        score_df = pd.concat([score_df, new_season_score_df], ignore_index=True)\n",
    "        \n",
    "    \n",
    "TOURNAMENT_YEAR = YEARS[-1]\n",
    "FILENAME_YEARS = f\"{YEARS[0]}-{TOURNAMENT_YEAR}\"\n",
    "PICKS_FILENAME = f\"Data/Tournament Picks/picks_{FILENAME_YEARS}.csv\"\n",
    "RATINGS_FILENAME = f\"Data/Season Ratings/data_{FILENAME_YEARS}.json\""
   ]
  },
  {
   "cell_type": "markdown",
   "id": "1ba74e55-b2f0-4b4d-951d-b5fa193c2497",
   "metadata": {},
   "source": [
    "## Massey Ratings"
   ]
  },
  {
   "cell_type": "code",
   "execution_count": null,
   "id": "530fd323-e87f-4d69-bb0b-1d5052b7058c",
   "metadata": {},
   "outputs": [],
   "source": [
    "massey_ratings = ru.calculate_massey_ratings(score_df=score_df,\n",
    "                                             debug=False)\n",
    "\n",
    "_, _, tourney_dict = ru.simulate_tournament(filename=TOURNAMENT_FILENAME,\n",
    "                                            ratings=massey_ratings)\n",
    "\n",
    "sys.write_tournament_to_csv(tourney_dict=tourney_dict,\n",
    "                            filename=PICKS_FILENAME,\n",
    "                            rating_type=\"massey\")"
   ]
  },
  {
   "cell_type": "markdown",
   "id": "c3ad93f6-d13e-419a-b517-0eebfcc2aa23",
   "metadata": {},
   "source": [
    "# Colley Ratings"
   ]
  },
  {
   "cell_type": "code",
   "execution_count": null,
   "id": "acc924b2-87d9-4218-b87f-3984bf066201",
   "metadata": {},
   "outputs": [],
   "source": [
    "colley_ratings = ru.calculate_colley_ratings(score_df=score_df,\n",
    "                                             debug=False)\n",
    "\n",
    "_, _, tourney_dict = ru.simulate_tournament(filename=TOURNAMENT_FILENAME,\n",
    "                                            ratings=colley_ratings)\n",
    "\n",
    "sys.write_tournament_to_csv(tourney_dict=tourney_dict,\n",
    "                            filename=PICKS_FILENAME,\n",
    "                            rating_type=\"colley\")"
   ]
  },
  {
   "cell_type": "markdown",
   "id": "da1e35d9-a2ff-4aa0-ab23-2be5acd10f4e",
   "metadata": {},
   "source": [
    "# Elo Ratings"
   ]
  },
  {
   "cell_type": "code",
   "execution_count": null,
   "id": "0f4fff3e-faa7-4fa5-ad86-25796d7006c5",
   "metadata": {},
   "outputs": [],
   "source": [
    "adj_elo_ratings = ru.calculate_elo_ratings(score_df=score_df,\n",
    "                                           K=30,\n",
    "                                           debug=False,\n",
    "                                           adjust_K=True)\n",
    "\n",
    "_, _, tourney_dict = ru.simulate_tournament(filename=TOURNAMENT_FILENAME,\n",
    "                                            ratings=adj_elo_ratings)\n",
    "\n",
    "sys.write_tournament_to_csv(tourney_dict=tourney_dict,\n",
    "                            filename=PICKS_FILENAME,\n",
    "                            rating_type=\"adj_elo\")"
   ]
  },
  {
   "cell_type": "code",
   "execution_count": null,
   "id": "5d02e887-3a7e-4ce0-ae95-d1c983670edb",
   "metadata": {},
   "outputs": [],
   "source": [
    "elo_ratings = ru.calculate_elo_ratings(score_df=score_df,\n",
    "                                       K=30,\n",
    "                                       debug=False,\n",
    "                                       adjust_K=False)\n",
    "\n",
    "_, _, tourney_dict = ru.simulate_tournament(filename=TOURNAMENT_FILENAME,\n",
    "                                            ratings=elo_ratings)\n",
    "\n",
    "sys.write_tournament_to_csv(tourney_dict=tourney_dict,\n",
    "                            filename=PICKS_FILENAME,\n",
    "                            rating_type=\"elo\")"
   ]
  },
  {
   "cell_type": "markdown",
   "id": "0292c8e7-f87c-43a6-9807-eafc37c70e8f",
   "metadata": {},
   "source": [
    "# SRS Ratings"
   ]
  },
  {
   "cell_type": "code",
   "execution_count": null,
   "id": "a3654c25-079e-4142-911f-36e9b6c7e560",
   "metadata": {},
   "outputs": [],
   "source": [
    "srs_ratings = ru.compile_srs_ratings(filename=FILENAME,\n",
    "                                     debug=False)\n",
    "\n",
    "_, _, tourney_dict = ru.simulate_tournament(filename=TOURNAMENT_FILENAME,\n",
    "                                            ratings=srs_ratings)\n",
    "\n",
    "sys.write_tournament_to_csv(tourney_dict=tourney_dict,\n",
    "                            filename=PICKS_FILENAME,\n",
    "                            rating_type=\"srs\")"
   ]
  },
  {
   "cell_type": "markdown",
   "id": "6892f457-c431-4ec6-adef-eb918376f89d",
   "metadata": {},
   "source": [
    "# Combined Ratings (numerical analysis)\n",
    "Step through several possible weights for combination of normalized rating systems (in steps of 0.25 between -1 and 1).\n",
    "\n",
    "#### Note: This may take a while to run."
   ]
  },
  {
   "cell_type": "code",
   "execution_count": null,
   "id": "11cbf51e-f432-48be-bec4-b43cb351e31d",
   "metadata": {
    "scrolled": true
   },
   "outputs": [],
   "source": [
    "tourney_dict = ru.apply_ratings_weights_to_maximize_correct_picks(massey_ratings=massey_ratings,\n",
    "                                                                  colley_ratings=colley_ratings,\n",
    "                                                                  adj_elo_ratings=adj_elo_ratings,\n",
    "                                                                  elo_ratings=elo_ratings,\n",
    "                                                                  srs_ratings=srs_ratings,\n",
    "                                                                  tournament_filename=TOURNAMENT_FILENAME)\n",
    "\n",
    "sys.write_tournament_to_csv(tourney_dict=tourney_dict,\n",
    "                            filename=PICKS_FILENAME,\n",
    "                            rating_type=\"combined\")"
   ]
  },
  {
   "cell_type": "markdown",
   "id": "ecf10a2f-e840-4eca-bfb6-0a61c875e672",
   "metadata": {},
   "source": [
    "# Combined Ratings\n",
    "Apply custom weights for each rating system against the current season tournament."
   ]
  },
  {
   "cell_type": "code",
   "execution_count": null,
   "id": "dd2c9fcf-ab82-4f13-bd51-0ae0b286193b",
   "metadata": {},
   "outputs": [],
   "source": [
    "MASSEY_WEIGHT = 0.625\n",
    "COLLEY_WEIGHT = 0.375\n",
    "ADJ_ELO_WEIGHT = -0.125\n",
    "ELO_WEIGHT = 0.1875\n",
    "SRS_WEIGHT = 0.3125\n",
    "\n",
    "_, _, tourney_dict = ru.apply_custom_weights(massey_ratings=massey_ratings,\n",
    "                                             colley_ratings=colley_ratings,\n",
    "                                             adj_elo_ratings=adj_elo_ratings,\n",
    "                                             elo_ratings=elo_ratings,\n",
    "                                             srs_ratings=srs_ratings,\n",
    "                                             tournament_filename=TOURNAMENT_FILENAME,\n",
    "                                             massey_weight=MASSEY_WEIGHT,\n",
    "                                             colley_weight=COLLEY_WEIGHT,\n",
    "                                             adj_elo_weight=ADJ_ELO_WEIGHT,\n",
    "                                             elo_weight=ELO_WEIGHT,\n",
    "                                             srs_weight=SRS_WEIGHT)\n",
    "\n",
    "sys.write_tournament_to_csv(tourney_dict=tourney_dict,\n",
    "                            filename=PICKS_FILENAME,\n",
    "                            rating_type=\"custom_combined\")"
   ]
  }
 ],
 "metadata": {
  "kernelspec": {
   "display_name": "college-hoops",
   "language": "python",
   "name": "college-hoops"
  },
  "language_info": {
   "codemirror_mode": {
    "name": "ipython",
    "version": 3
   },
   "file_extension": ".py",
   "mimetype": "text/x-python",
   "name": "python",
   "nbconvert_exporter": "python",
   "pygments_lexer": "ipython3",
   "version": "3.10.16"
  }
 },
 "nbformat": 4,
 "nbformat_minor": 5
}
