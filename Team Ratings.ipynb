{
 "cells": [
  {
   "cell_type": "markdown",
   "id": "3ffedcd9-d96b-4d56-b36b-58f396a72495",
   "metadata": {},
   "source": [
    "# Team Ratings"
   ]
  },
  {
   "cell_type": "code",
   "execution_count": 18,
   "id": "db9d2fd6-9bd7-411e-bef2-ad6dce85e898",
   "metadata": {},
   "outputs": [],
   "source": [
    "# Third party libraries\n",
    "import pandas as pd\n",
    "import numpy as np\n",
    "\n",
    "# Local libraries\n",
    "import Tools.json_utils as ju\n",
    "\n",
    "FILENAME = \"Data/data_2024.json\""
   ]
  },
  {
   "cell_type": "code",
   "execution_count": null,
   "id": "e826019a-e94f-4d02-bd1f-b08668df8fc8",
   "metadata": {},
   "outputs": [],
   "source": [
    "# Currently unused (save for Massey, Colley, Elo Ratings)\n",
    "tournament = Tournament.Tournament(url=TOURNAMENT_URL,\n",
    "                                   debug=True)"
   ]
  },
  {
   "cell_type": "code",
   "execution_count": 70,
   "id": "efc8d778-fb62-4130-87e2-50b7b7984a40",
   "metadata": {},
   "outputs": [
    {
     "name": "stdout",
     "output_type": "stream",
     "text": [
      "{'Home': [], 'Home_Score': [], 'Away': [], 'Away_Score': []}\n"
     ]
    }
   ],
   "source": [
    "# Example dataset\n",
    "score_df = {\n",
    "    \"Home\": [],\n",
    "    \"Home_Score\": [],\n",
    "    \"Away\": [],\n",
    "    \"Away_Score\": []\n",
    "}\n",
    "print(score_df)"
   ]
  },
  {
   "cell_type": "code",
   "execution_count": 71,
   "id": "8e273a36-58b5-4d4b-9c22-52f3038dce4b",
   "metadata": {},
   "outputs": [
    {
     "name": "stdout",
     "output_type": "stream",
     "text": [
      "G           [1, 2, 3, 4, 5, 6, 7, 8, 9, 10, 11, 12, 13, 14...\n",
      "Date        [Mon, Nov 6, 2023, Fri, Nov 10, 2023, Tue, Nov...\n",
      "Time        [8:00p, 8:00p, 9:30p, 9:00p, 10:30p, 2:30p, 8:...\n",
      "Type        [REG, REG, REG, REG, REG, REG, REG, REG, REG, ...\n",
      "Site        [None, None, N, N, N, N, None, None, None, Non...\n",
      "Opponent    [North Carolina Central, Manhattan, Kentucky, ...\n",
      "Conf        [MEAC, MAAC, SEC, None, Big East, SEC, OVC, Bi...\n",
      "SRS         [-7.88, -15.28, 16.79, None, 19.27, 21.81, -11...\n",
      "Outcome     [W, W, W, W, L, W, W, W, W, W, W, W, W, W, L, ...\n",
      "Tm          [99, 99, 89, 83, 59, 69, 71, 69, 88, 73, 75, 7...\n",
      "Opp         [56, 61, 84, 56, 73, 60, 63, 65, 69, 64, 71, 6...\n",
      "OT          [None, None, None, None, None, None, None, Non...\n",
      "W           [1, 2, 3, 4, 4, 5, 6, 7, 8, 9, 10, 11, 12, 13,...\n",
      "L           [0, 0, 0, 0, 1, 1, 1, 1, 1, 1, 1, 1, 1, 1, 2, ...\n",
      "Streak      [W 1, W 2, W 3, W 4, L 1, W 1, W 2, W 3, W 4, ...\n",
      "Arena       [Allen Fieldhouse, Allen Fieldhouse, United Ce...\n",
      "Name: Kansas, dtype: object\n",
      "              Home  Home_Score                    Away  Away_Score\n",
      "0           Kansas          99  North Carolina Central          56\n",
      "1           Kansas          99               Manhattan          61\n",
      "2           Kansas          89                Kentucky          84\n",
      "3           Kansas          83               Chaminade          56\n",
      "4        Marquette          73                  Kansas          59\n",
      "5           Kansas          69               Tennessee          60\n",
      "6           Kansas          71        Eastern Illinois          63\n",
      "7           Kansas          69             Connecticut          65\n",
      "8           Kansas          88             Kansas City          69\n",
      "9           Kansas          73                Missouri          64\n",
      "10         Indiana          71                  Kansas          75\n",
      "11          Kansas          75                    Yale          60\n",
      "12          Kansas          86           Wichita State          67\n",
      "13          Kansas          83                     TCU          81\n",
      "14             UCF          65                  Kansas          60\n",
      "15          Kansas          78                Oklahoma          66\n",
      "16  Oklahoma State          66                  Kansas          90\n",
      "17   West Virginia          91                  Kansas          85\n",
      "18          Kansas          74              Cincinnati          69\n",
      "19      Iowa State          79                  Kansas          75\n",
      "20          Kansas          83          Oklahoma State          54\n",
      "21          Kansas          78                 Houston          65\n",
      "22    Kansas State          75                  Kansas          70\n",
      "23          Kansas          64                  Baylor          61\n",
      "24      Texas Tech          79                  Kansas          50\n",
      "25        Oklahoma          57                  Kansas          67\n",
      "26          Kansas          86                   Texas          67\n",
      "27          Kansas          68           Brigham Young          76\n",
      "28          Baylor          82                  Kansas          74\n",
      "29          Kansas          90            Kansas State          68\n",
      "30         Houston          76                  Kansas          46\n",
      "31      Cincinnati          72                  Kansas          52\n"
     ]
    }
   ],
   "source": [
    "\n",
    "# Read Stats\n",
    "teams_df = pd.read_json(FILENAME)\n",
    "\n",
    "team = \"Kansas\"\n",
    "\n",
    "team_df = teams_df[team]\n",
    "\n",
    "\n",
    "for i in range(len(team_df[\"Type\"])):\n",
    "\n",
    "    # Non Tournament games\n",
    "    if team_df[\"Type\"][i] != \"NCAA\" and team_df[\"Type\"][i] != \"CIT\":\n",
    "\n",
    "        # Find which team is home/away (None = home, @ = away, N = neutral/assign home to winner?)\n",
    "        if team_df[\"Site\"][i] is None:\n",
    "\n",
    "            # Current team is home team\n",
    "            score_df[\"Home\"].append(team)\n",
    "            score_df[\"Away\"].append(team_df[\"Opponent\"][i])\n",
    "            score_df[\"Home_Score\"].append(int(team_df[\"Tm\"][i]))\n",
    "            score_df[\"Away_Score\"].append(int(team_df[\"Opp\"][i]))\n",
    "            \n",
    "        elif team_df[\"Site\"][i] == \"@\":\n",
    "\n",
    "            # Opponent team is away team\n",
    "            score_df[\"Home\"].append(team_df[\"Opponent\"][i])\n",
    "            score_df[\"Away\"].append(team)\n",
    "            score_df[\"Home_Score\"].append(int(team_df[\"Opp\"][i]))\n",
    "            score_df[\"Away_Score\"].append(int(team_df[\"Tm\"][i]))\n",
    "\n",
    "        else:\n",
    "\n",
    "            if team_df[\"Outcome\"][i] == \"W\":\n",
    "\n",
    "                # Current team is home team\n",
    "                score_df[\"Home\"].append(team)\n",
    "                score_df[\"Away\"].append(team_df[\"Opponent\"][i])\n",
    "                score_df[\"Home_Score\"].append(int(team_df[\"Tm\"][i]))\n",
    "                score_df[\"Away_Score\"].append(int(team_df[\"Opp\"][i]))\n",
    "\n",
    "            else:\n",
    "\n",
    "                # Opponent team is away team\n",
    "                score_df[\"Home\"].append(team_df[\"Opponent\"][i])\n",
    "                score_df[\"Away\"].append(team)\n",
    "                score_df[\"Home_Score\"].append(int(team_df[\"Opp\"][i]))\n",
    "                score_df[\"Away_Score\"].append(int(team_df[\"Tm\"][i]))\n",
    "\n",
    "score_df = pd.DataFrame(score_df)\n",
    "print(score_df)"
   ]
  },
  {
   "cell_type": "code",
   "execution_count": 72,
   "id": "919011f2-37f0-4e62-a099-b8ee62bcc844",
   "metadata": {},
   "outputs": [],
   "source": [
    "# Get unique teams and index them\n",
    "teams = list(set(score_df[\"Home\"]).union(set(score_df[\"Away\"])))\n",
    "team_index = {team: i for i, team in enumerate(teams)}\n",
    "N = len(teams)\n",
    "\n",
    "# Initialize Massey matrix and score vector\n",
    "M = np.zeros((N, N))\n",
    "b = np.zeros(N)\n",
    "\n",
    "# Fill the matrix and score vector\n",
    "for _, row in score_df.iterrows():\n",
    "    h, a = team_index[row[\"Home\"]], team_index[row[\"Away\"]]\n",
    "    home_margin = row[\"Home_Score\"] - row[\"Away_Score\"]\n",
    "\n",
    "    M[h, h] += 1\n",
    "    M[a, a] += 1\n",
    "    M[h, a] -= 1\n",
    "    M[a, h] -= 1\n",
    "\n",
    "    b[h] += home_margin\n",
    "    b[a] -= home_margin\n",
    "\n",
    "# Replace last row to enforce sum constraint (makes matrix invertible)\n",
    "M[-1, :] = 1\n",
    "b[-1] = 0"
   ]
  },
  {
   "cell_type": "code",
   "execution_count": 73,
   "id": "4320f9b9-4b3f-4f3f-975e-1af42ad20ff1",
   "metadata": {},
   "outputs": [
    {
     "name": "stdout",
     "output_type": "stream",
     "text": [
      "1. Texas Tech: 35.76\n",
      "2. Marquette: 20.76\n",
      "3. Houston: 15.26\n",
      "4. Brigham Young: 14.76\n",
      "5. Cincinnati: 14.26\n",
      "6. West Virginia: 12.76\n",
      "7. UCF: 11.76\n",
      "8. Iowa State: 10.76\n",
      "9. Baylor: 9.26\n",
      "10. Kansas: 6.76\n",
      "11. TCU: 4.76\n",
      "12. Indiana: 2.76\n",
      "13. Connecticut: 2.76\n",
      "14. Kentucky: 1.76\n",
      "15. Eastern Illinois: -1.24\n",
      "16. Kansas State: -1.74\n",
      "17. Missouri: -2.24\n",
      "18. Tennessee: -2.24\n",
      "19. Oklahoma: -4.24\n",
      "20. Yale: -8.24\n",
      "21. Texas: -12.24\n",
      "22. Wichita State: -12.24\n",
      "23. Kansas City: -12.24\n",
      "24. Oklahoma State: -19.74\n",
      "25. Chaminade: -20.24\n",
      "26. Manhattan: -31.24\n",
      "27. North Carolina Central: -36.24\n"
     ]
    }
   ],
   "source": [
    "ratings = np.linalg.solve(M, b)\n",
    "\n",
    "# Convert ratings to a dictionary\n",
    "massey_ratings = {team: rating for team, rating in zip(teams, ratings)}\n",
    "\n",
    "# Sort and display rankings\n",
    "massey_rankings = sorted(massey_ratings.items(), key=lambda x: x[1], reverse=True)\n",
    "\n",
    "for rank, (team, rating) in enumerate(massey_rankings, 1):\n",
    "    print(f\"{rank}. {team}: {rating:.2f}\")"
   ]
  },
  {
   "cell_type": "markdown",
   "id": "ae7c0758-15a4-4b67-b51c-64806f7c7efd",
   "metadata": {},
   "source": [
    "# Sample Code"
   ]
  },
  {
   "cell_type": "code",
   "execution_count": 12,
   "id": "cd3ac669-1aff-4f21-8677-2c4533574771",
   "metadata": {},
   "outputs": [],
   "source": [
    "# Example dataset\n",
    "df = pd.DataFrame({\n",
    "    \"Home\": [\"Kansas\", \"Arkansas\", \"Duke\"],\n",
    "    \"Home_Score\": [78, 70, 65],\n",
    "    \"Away\": [\"Duke\", \"Kansas\", \"Arkansas\"],\n",
    "    \"Away_Score\": [75, 68, 52]\n",
    "})"
   ]
  },
  {
   "cell_type": "code",
   "execution_count": 13,
   "id": "f0f74f2f-dbfd-4cc1-b9e0-0b5d5e420093",
   "metadata": {},
   "outputs": [],
   "source": [
    "# Get unique teams and index them\n",
    "teams = list(set(df[\"Home\"]).union(set(df[\"Away\"])))\n",
    "team_index = {team: i for i, team in enumerate(teams)}\n",
    "N = len(teams)\n",
    "\n",
    "# Initialize Massey matrix and score vector\n",
    "M = np.zeros((N, N))\n",
    "b = np.zeros(N)\n",
    "\n",
    "# Fill the matrix and score vector\n",
    "for _, row in df.iterrows():\n",
    "    h, a = team_index[row[\"Home\"]], team_index[row[\"Away\"]]\n",
    "    home_margin = row[\"Home_Score\"] - row[\"Away_Score\"]\n",
    "\n",
    "    M[h, h] += 1\n",
    "    M[a, a] += 1\n",
    "    M[h, a] -= 1\n",
    "    M[a, h] -= 1\n",
    "\n",
    "    b[h] += home_margin\n",
    "    b[a] -= home_margin\n",
    "\n",
    "# Replace last row to enforce sum constraint (makes matrix invertible)\n",
    "M[-1, :] = 1\n",
    "b[-1] = 0"
   ]
  },
  {
   "cell_type": "code",
   "execution_count": 14,
   "id": "2b2b03f2-142f-49da-b88b-e7f71cf5b5cb",
   "metadata": {},
   "outputs": [
    {
     "name": "stdout",
     "output_type": "stream",
     "text": [
      "1. Duke: 3.33\n",
      "2. Kansas: 0.33\n",
      "3. Arkansas: -3.67\n"
     ]
    }
   ],
   "source": [
    "ratings = np.linalg.solve(M, b)\n",
    "\n",
    "# Convert ratings to a dictionary\n",
    "massey_ratings = {team: rating for team, rating in zip(teams, ratings)}\n",
    "\n",
    "# Sort and display rankings\n",
    "massey_rankings = sorted(massey_ratings.items(), key=lambda x: x[1], reverse=True)\n",
    "\n",
    "for rank, (team, rating) in enumerate(massey_rankings, 1):\n",
    "    print(f\"{rank}. {team}: {rating:.2f}\")"
   ]
  },
  {
   "cell_type": "code",
   "execution_count": null,
   "id": "eecdb58c-92d2-4a15-8532-4f34b6fdc702",
   "metadata": {},
   "outputs": [],
   "source": []
  }
 ],
 "metadata": {
  "kernelspec": {
   "display_name": "college-hoops",
   "language": "python",
   "name": "college-hoops"
  },
  "language_info": {
   "codemirror_mode": {
    "name": "ipython",
    "version": 3
   },
   "file_extension": ".py",
   "mimetype": "text/x-python",
   "name": "python",
   "nbconvert_exporter": "python",
   "pygments_lexer": "ipython3",
   "version": "3.10.16"
  }
 },
 "nbformat": 4,
 "nbformat_minor": 5
}
