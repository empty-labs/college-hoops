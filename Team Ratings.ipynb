{
 "cells": [
  {
   "cell_type": "markdown",
   "id": "3ffedcd9-d96b-4d56-b36b-58f396a72495",
   "metadata": {},
   "source": [
    "# Team Ratings"
   ]
  },
  {
   "cell_type": "code",
   "execution_count": 4,
   "id": "db9d2fd6-9bd7-411e-bef2-ad6dce85e898",
   "metadata": {},
   "outputs": [],
   "source": [
    "# Local libraries\n",
    "import Tools.ratings_utils as ru\n",
    "\n",
    "FILENAME = \"Data/data_2024.json\"\n",
    "TOURNAMENT_FILENAME = \"Data/tournament_2024.csv\"\n",
    "\n",
    "\n",
    "score_df = ru.set_rating_data_frame(filename=FILENAME)"
   ]
  },
  {
   "cell_type": "markdown",
   "id": "1ba74e55-b2f0-4b4d-951d-b5fa193c2497",
   "metadata": {},
   "source": [
    "## Massey Ratings"
   ]
  },
  {
   "cell_type": "code",
   "execution_count": null,
   "id": "530fd323-e87f-4d69-bb0b-1d5052b7058c",
   "metadata": {},
   "outputs": [],
   "source": [
    "massey_ratings = ru.calculate_massey_ratings(score_df=score_df,\n",
    "                                             debug=False)\n",
    "\n",
    "ru.simulate_tournament(filename=TOURNAMENT_FILENAME,\n",
    "                       ratings=massey_ratings)"
   ]
  },
  {
   "cell_type": "markdown",
   "id": "c3ad93f6-d13e-419a-b517-0eebfcc2aa23",
   "metadata": {},
   "source": [
    "# Colley Ratings"
   ]
  },
  {
   "cell_type": "code",
   "execution_count": null,
   "id": "acc924b2-87d9-4218-b87f-3984bf066201",
   "metadata": {},
   "outputs": [],
   "source": [
    "colley_ratings = ru.calculate_colley_ratings(score_df=score_df,\n",
    "                                             debug=False)\n",
    "\n",
    "ru.simulate_tournament(filename=TOURNAMENT_FILENAME,\n",
    "                       ratings=colley_ratings)\n"
   ]
  },
  {
   "cell_type": "markdown",
   "id": "da1e35d9-a2ff-4aa0-ab23-2be5acd10f4e",
   "metadata": {},
   "source": [
    "# Elo Ratings"
   ]
  },
  {
   "cell_type": "code",
   "execution_count": 13,
   "id": "0f4fff3e-faa7-4fa5-ad86-25796d7006c5",
   "metadata": {},
   "outputs": [
    {
     "name": "stdout",
     "output_type": "stream",
     "text": [
      "Round: 1 / Round of 64 - Correct picks: 12 out of 32\n",
      "Round: 2 / Round of 32 - Correct picks: 0 out of 16\n",
      "Round: 3 / Sweet 16 - Correct picks: 0 out of 8\n",
      "Round: 4 / Elite 8 - Correct picks: 0 out of 4\n",
      "Round: 5 / Final 4 - Correct picks: 0 out of 2\n",
      "Round: 6 / Championship - Correct picks: 0 out of 1\n",
      "\n",
      "Total correct picks in tournament: 12 out of 63\n"
     ]
    }
   ],
   "source": [
    "import pandas as pd\n",
    "import numpy as np\n",
    "\n",
    "\n",
    "def expected_outcome(r1, r2):\n",
    "    \"\"\"Calculate expected probability of team 1 winning against team 2.\"\"\"\n",
    "    return 1 / (1 + 10 ** ((r2 - r1) / 400))\n",
    "\n",
    "\n",
    "def update_elo(r1, r2, outcome, K=30):\n",
    "    \"\"\"Update Elo ratings after a game.\"\"\"\n",
    "    E1 = expected_outcome(r1, r2)\n",
    "    E2 = expected_outcome(r2, r1)\n",
    "\n",
    "    r1_new = r1 + K * (outcome - E1)\n",
    "    r2_new = r2 + K * ((1 - outcome) - E2)\n",
    "\n",
    "    return r1_new, r2_new\n",
    "\n",
    "\n",
    "def compute_elo_ratings(score_df: pd.DataFrame, initial_rating=1500, K=30, debug: bool=False):\n",
    "    \"\"\"\n",
    "    Computes Elo ratings for teams based on game results.\n",
    "\n",
    "    Args:\n",
    "        score_df (pd.DataFrame): Massey score data frame\n",
    "        initial_rating: Starting rating for all teams (default 1500)\n",
    "        K: Rating adjustment factor (default 30)\n",
    "        debug (bool): flag to print debug statements\n",
    "\n",
    "    Returns:\n",
    "        elo_ratings: Dictionary with team Elo ratings\n",
    "    \"\"\"\n",
    "    \n",
    "    # Get unique teams and index them\n",
    "    teams = list(set(score_df[\"Home\"]).union(set(score_df[\"Away\"])))\n",
    "    elo_ratings = {team: initial_rating for team in teams}\n",
    "\n",
    "    for _, row in score_df.iterrows():\n",
    "        t1, t2, winner = row[\"Home\"], row[\"Away\"], row[\"Winner\"]\n",
    "        \n",
    "        # Assign outcome (1 if t1 wins, 0 if t2 wins)\n",
    "        outcome = 1 if winner == t1 else 0\n",
    "\n",
    "        # Update Elo ratings\n",
    "        elo_ratings[t1], elo_ratings[t2] = update_elo(r1=elo_ratings[t1], r2=elo_ratings[t2],\n",
    "                                                      outcome=outcome, K=K)\n",
    "\n",
    "    # Sort and display rankings\n",
    "    elo_rankings = sorted(elo_ratings.items(), key=lambda x: x[1], reverse=True)\n",
    "\n",
    "    if debug:\n",
    "        for rank, (team, rating) in enumerate(elo_rankings, 1):\n",
    "            print(f\"{rank}. {team}: {rating:.2f}\")\n",
    "    \n",
    "    return elo_ratings\n",
    "\n",
    "\n",
    "elo_ratings = compute_elo_ratings(score_df=score_df,\n",
    "                                  debug=False)\n",
    "\n",
    "ru.simulate_tournament(filename=TOURNAMENT_FILENAME,\n",
    "                       ratings=elo_ratings)"
   ]
  },
  {
   "cell_type": "markdown",
   "id": "baaf798c-e9a2-4141-8cf8-be87569189fc",
   "metadata": {},
   "source": [
    "# Test code"
   ]
  },
  {
   "cell_type": "code",
   "execution_count": null,
   "id": "e826019a-e94f-4d02-bd1f-b08668df8fc8",
   "metadata": {},
   "outputs": [],
   "source": [
    "# Currently unused (save for Massey, Colley, Elo Ratings)\n",
    "tournament = Tournament.Tournament(url=TOURNAMENT_URL,\n",
    "                                   debug=True)"
   ]
  },
  {
   "cell_type": "code",
   "execution_count": null,
   "id": "b642453a-d7b8-4a30-babd-d1f26837da14",
   "metadata": {},
   "outputs": [],
   "source": [
    "# # Check results manually\n",
    "# import csv\n",
    "\n",
    "# # Convert dictionary to a CSV-friendly format\n",
    "# with open(\"teams.csv\", mode=\"w\", newline=\"\") as file:\n",
    "#     writer = csv.writer(file)\n",
    "\n",
    "#     keys = list(tourney_dict.keys())\n",
    "#     writer.writerow(keys)  # Header\n",
    "\n",
    "#     for i in range(len(tourney_dict[keys[0]])):\n",
    "#         row = []\n",
    "#         for key in keys:\n",
    "#             row.append(tourney_dict[key][i])\n",
    "#         writer.writerow(row)  # Combine team name with stats"
   ]
  },
  {
   "cell_type": "code",
   "execution_count": null,
   "id": "eecdb58c-92d2-4a15-8532-4f34b6fdc702",
   "metadata": {},
   "outputs": [],
   "source": []
  }
 ],
 "metadata": {
  "kernelspec": {
   "display_name": "college-hoops",
   "language": "python",
   "name": "college-hoops"
  },
  "language_info": {
   "codemirror_mode": {
    "name": "ipython",
    "version": 3
   },
   "file_extension": ".py",
   "mimetype": "text/x-python",
   "name": "python",
   "nbconvert_exporter": "python",
   "pygments_lexer": "ipython3",
   "version": "3.10.16"
  }
 },
 "nbformat": 4,
 "nbformat_minor": 5
}
