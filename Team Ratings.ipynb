{
 "cells": [
  {
   "cell_type": "markdown",
   "id": "3ffedcd9-d96b-4d56-b36b-58f396a72495",
   "metadata": {},
   "source": [
    "# Team Ratings"
   ]
  },
  {
   "cell_type": "code",
   "execution_count": 2,
   "id": "db9d2fd6-9bd7-411e-bef2-ad6dce85e898",
   "metadata": {},
   "outputs": [],
   "source": [
    "# Local libraries\n",
    "import Tools.ratings_utils as ru\n",
    "\n",
    "FILENAME = \"Data/data_2024.json\"\n",
    "TOURNAMENT_FILENAME = \"Data/tournament_2024.csv\""
   ]
  },
  {
   "cell_type": "code",
   "execution_count": null,
   "id": "e826019a-e94f-4d02-bd1f-b08668df8fc8",
   "metadata": {},
   "outputs": [],
   "source": [
    "# Currently unused (save for Massey, Colley, Elo Ratings)\n",
    "tournament = Tournament.Tournament(url=TOURNAMENT_URL,\n",
    "                                   debug=True)"
   ]
  },
  {
   "cell_type": "code",
   "execution_count": null,
   "id": "b642453a-d7b8-4a30-babd-d1f26837da14",
   "metadata": {},
   "outputs": [],
   "source": [
    "# # Check results manually\n",
    "# import csv\n",
    "\n",
    "# # Convert dictionary to a CSV-friendly format\n",
    "# with open(\"teams.csv\", mode=\"w\", newline=\"\") as file:\n",
    "#     writer = csv.writer(file)\n",
    "\n",
    "#     keys = list(tourney_dict.keys())\n",
    "#     writer.writerow(keys)  # Header\n",
    "\n",
    "#     for i in range(len(tourney_dict[keys[0]])):\n",
    "#         row = []\n",
    "#         for key in keys:\n",
    "#             row.append(tourney_dict[key][i])\n",
    "#         writer.writerow(row)  # Combine team name with stats"
   ]
  },
  {
   "cell_type": "markdown",
   "id": "1ba74e55-b2f0-4b4d-951d-b5fa193c2497",
   "metadata": {},
   "source": [
    "## Massey Ratings"
   ]
  },
  {
   "cell_type": "code",
   "execution_count": 11,
   "id": "120670ec-a3f1-45b4-a27b-713e53756f8b",
   "metadata": {},
   "outputs": [],
   "source": [
    "import pandas as pd\n",
    "\n",
    "def simulate_next_round(tourney_dict: dict, massey_ratings: dict, rd: int):\n",
    "    \"\"\"Simulate next round of tournament using current round of team matchups\n",
    "\n",
    "    Args:\n",
    "        tourney_dict (dict): tournament dictionary of current round matchups\n",
    "        massey_rantings (dict): dictionary of Massey ratings\n",
    "        rd (int): current round of tournament matchups\n",
    "\n",
    "    Returns:\n",
    "        tourney_dict (dict): tournament dictionary of current and next round matchups\n",
    "    \"\"\"\n",
    "    game = 0\n",
    "\n",
    "    # Convert dictionary to DataFrame, find indices matching current round\n",
    "    df = pd.DataFrame(tourney_dict)\n",
    "    matching_indices = df[df[\"Round\"] == rd].index.tolist()\n",
    "    \n",
    "    for i in matching_indices:\n",
    "\n",
    "        team1 = tourney_dict[\"Team1\"][i]\n",
    "        team2 = tourney_dict[\"Team2\"][i]\n",
    "        rating1 = massey_ratings[team1]\n",
    "        rating2 = massey_ratings[team2]\n",
    "        \n",
    "        # Add 2nd round teams\n",
    "        if tourney_dict[\"Rating1\"][i] >= tourney_dict[\"Rating2\"][i]:\n",
    "            \n",
    "            if i % 2 == 0:\n",
    "                # Assign 1st team if even index\n",
    "                tourney_dict[\"Team1\"].append(team1)\n",
    "                tourney_dict[\"Rating1\"].append(rating1)\n",
    "            else:\n",
    "                # Assign 2nd team if odd index\n",
    "                tourney_dict[\"Team2\"].append(team1)\n",
    "                tourney_dict[\"Rating2\"].append(rating1)\n",
    "    \n",
    "        else:\n",
    "            \n",
    "            if i % 2 == 0:\n",
    "                # Assign 1st team if even index\n",
    "                tourney_dict[\"Team1\"].append(team2)\n",
    "                tourney_dict[\"Rating1\"].append(rating2)\n",
    "            else:            \n",
    "                # Assign 2nd team if odd index\n",
    "                tourney_dict[\"Team2\"].append(team2)\n",
    "                tourney_dict[\"Rating2\"].append(rating2)\n",
    "    \n",
    "        if i % 2 == 0:\n",
    "            game += 1\n",
    "    \n",
    "            tourney_dict[\"Round\"].append(rd+1)\n",
    "            tourney_dict[\"Game\"].append(game)\n",
    "\n",
    "    return tourney_dict\n",
    "\n",
    "\n",
    "def calculate_correct_picks(tourney_dict: dict, tourney_df: pd.DataFrame, rd: int):\n",
    "    \"\"\"Assess number of correct picks based on teams in next round\n",
    "\n",
    "    Args:\n",
    "        tourney_dict (dict): tournament dictionary of current round matchups\n",
    "        tourney_df (pd.DataFrame): tournament data frame\n",
    "        rd (int): current round of tournament matchups\n",
    "\n",
    "    Returns:\n",
    "        correct_picks (int): number of correct picks in tournament\n",
    "    \"\"\"\n",
    "    \n",
    "    # Need to add teams to correct pick checker\n",
    "    correct_picks = 0\n",
    "    \n",
    "    # Convert dictionary to DataFrame, find indices matching current round\n",
    "    df = pd.DataFrame(tourney_dict)\n",
    "    matching_indices = df[df[\"Round\"] == (rd+1)].index.tolist()\n",
    "    total_teams_in_rd = len(df[df[\"Round\"] == rd].index.tolist())\n",
    "    \n",
    "    for i in matching_indices:\n",
    "        \n",
    "        # Compare 1st round scores by checking 2nd round participants\n",
    "        if tourney_df[\"Team1\"][i] == tourney_dict[\"Team1\"][i]:\n",
    "            correct_picks +=1\n",
    "        if tourney_df[\"Team2\"][i] == tourney_dict[\"Team2\"][i]:\n",
    "            correct_picks +=1\n",
    "            \n",
    "    print(f\"Round: {rd} - Correct picks: {correct_picks} out of {total_teams_in_rd}\")\n"
   ]
  },
  {
   "cell_type": "code",
   "execution_count": 4,
   "id": "530fd323-e87f-4d69-bb0b-1d5052b7058c",
   "metadata": {},
   "outputs": [],
   "source": [
    "score_df = ru.set_massey_rating_data_frame(filename=FILENAME)\n",
    "massey_ratings = ru.calculate_massey_ratings(score_df=score_df,\n",
    "                                               debug=False)"
   ]
  },
  {
   "cell_type": "code",
   "execution_count": 12,
   "id": "a259c8ac-f74f-4c29-baa2-f2868af01ae0",
   "metadata": {},
   "outputs": [
    {
     "name": "stdout",
     "output_type": "stream",
     "text": [
      "Round: 1 - Correct picks: 22 out of 32\n",
      "Round: 2 - Correct picks: 12 out of 16\n",
      "Round: 3 - Correct picks: 4 out of 8\n",
      "Round: 4 - Correct picks: 2 out of 4\n",
      "Round: 5 - Correct picks: 0 out of 2\n"
     ]
    },
    {
     "ename": "ValueError",
     "evalue": "All arrays must be of the same length",
     "output_type": "error",
     "traceback": [
      "\u001b[0;31m---------------------------------------------------------------------------\u001b[0m",
      "\u001b[0;31mValueError\u001b[0m                                Traceback (most recent call last)",
      "Cell \u001b[0;32mIn[12], line 36\u001b[0m\n\u001b[1;32m     30\u001b[0m \u001b[38;5;28;01mfor\u001b[39;00m rd \u001b[38;5;129;01min\u001b[39;00m \u001b[38;5;28mrange\u001b[39m(\u001b[38;5;241m1\u001b[39m, \u001b[38;5;241m7\u001b[39m):\n\u001b[1;32m     32\u001b[0m     tourney_dict \u001b[38;5;241m=\u001b[39m simulate_next_round(tourney_dict\u001b[38;5;241m=\u001b[39mtourney_dict,\n\u001b[1;32m     33\u001b[0m                                        massey_ratings\u001b[38;5;241m=\u001b[39mmassey_ratings,\n\u001b[1;32m     34\u001b[0m                                        rd\u001b[38;5;241m=\u001b[39mrd)\n\u001b[0;32m---> 36\u001b[0m     correct_picks \u001b[38;5;241m=\u001b[39m \u001b[43mcalculate_correct_picks\u001b[49m\u001b[43m(\u001b[49m\u001b[43mtourney_dict\u001b[49m\u001b[38;5;241;43m=\u001b[39;49m\u001b[43mtourney_dict\u001b[49m\u001b[43m,\u001b[49m\n\u001b[1;32m     37\u001b[0m \u001b[43m                                            \u001b[49m\u001b[43mtourney_df\u001b[49m\u001b[38;5;241;43m=\u001b[39;49m\u001b[43mtourney_df\u001b[49m\u001b[43m,\u001b[49m\n\u001b[1;32m     38\u001b[0m \u001b[43m                                            \u001b[49m\u001b[43mrd\u001b[49m\u001b[38;5;241;43m=\u001b[39;49m\u001b[43mrd\u001b[49m\u001b[43m)\u001b[49m\n\u001b[1;32m     40\u001b[0m \u001b[38;5;66;03m# print(pd.DataFrame(tourney_dict))\u001b[39;00m\n",
      "Cell \u001b[0;32mIn[11], line 75\u001b[0m, in \u001b[0;36mcalculate_correct_picks\u001b[0;34m(tourney_dict, tourney_df, rd)\u001b[0m\n\u001b[1;32m     72\u001b[0m correct_picks \u001b[38;5;241m=\u001b[39m \u001b[38;5;241m0\u001b[39m\n\u001b[1;32m     74\u001b[0m \u001b[38;5;66;03m# Convert dictionary to DataFrame, find indices matching current round\u001b[39;00m\n\u001b[0;32m---> 75\u001b[0m df \u001b[38;5;241m=\u001b[39m \u001b[43mpd\u001b[49m\u001b[38;5;241;43m.\u001b[39;49m\u001b[43mDataFrame\u001b[49m\u001b[43m(\u001b[49m\u001b[43mtourney_dict\u001b[49m\u001b[43m)\u001b[49m\n\u001b[1;32m     76\u001b[0m matching_indices \u001b[38;5;241m=\u001b[39m df[df[\u001b[38;5;124m\"\u001b[39m\u001b[38;5;124mRound\u001b[39m\u001b[38;5;124m\"\u001b[39m] \u001b[38;5;241m==\u001b[39m (rd\u001b[38;5;241m+\u001b[39m\u001b[38;5;241m1\u001b[39m)]\u001b[38;5;241m.\u001b[39mindex\u001b[38;5;241m.\u001b[39mtolist()\n\u001b[1;32m     77\u001b[0m total_teams_in_rd \u001b[38;5;241m=\u001b[39m \u001b[38;5;28mlen\u001b[39m(df[df[\u001b[38;5;124m\"\u001b[39m\u001b[38;5;124mRound\u001b[39m\u001b[38;5;124m\"\u001b[39m] \u001b[38;5;241m==\u001b[39m rd]\u001b[38;5;241m.\u001b[39mindex\u001b[38;5;241m.\u001b[39mtolist())\n",
      "File \u001b[0;32m~/anaconda3/envs/college-hoops/lib/python3.10/site-packages/pandas/core/frame.py:778\u001b[0m, in \u001b[0;36mDataFrame.__init__\u001b[0;34m(self, data, index, columns, dtype, copy)\u001b[0m\n\u001b[1;32m    772\u001b[0m     mgr \u001b[38;5;241m=\u001b[39m \u001b[38;5;28mself\u001b[39m\u001b[38;5;241m.\u001b[39m_init_mgr(\n\u001b[1;32m    773\u001b[0m         data, axes\u001b[38;5;241m=\u001b[39m{\u001b[38;5;124m\"\u001b[39m\u001b[38;5;124mindex\u001b[39m\u001b[38;5;124m\"\u001b[39m: index, \u001b[38;5;124m\"\u001b[39m\u001b[38;5;124mcolumns\u001b[39m\u001b[38;5;124m\"\u001b[39m: columns}, dtype\u001b[38;5;241m=\u001b[39mdtype, copy\u001b[38;5;241m=\u001b[39mcopy\n\u001b[1;32m    774\u001b[0m     )\n\u001b[1;32m    776\u001b[0m \u001b[38;5;28;01melif\u001b[39;00m \u001b[38;5;28misinstance\u001b[39m(data, \u001b[38;5;28mdict\u001b[39m):\n\u001b[1;32m    777\u001b[0m     \u001b[38;5;66;03m# GH#38939 de facto copy defaults to False only in non-dict cases\u001b[39;00m\n\u001b[0;32m--> 778\u001b[0m     mgr \u001b[38;5;241m=\u001b[39m \u001b[43mdict_to_mgr\u001b[49m\u001b[43m(\u001b[49m\u001b[43mdata\u001b[49m\u001b[43m,\u001b[49m\u001b[43m \u001b[49m\u001b[43mindex\u001b[49m\u001b[43m,\u001b[49m\u001b[43m \u001b[49m\u001b[43mcolumns\u001b[49m\u001b[43m,\u001b[49m\u001b[43m \u001b[49m\u001b[43mdtype\u001b[49m\u001b[38;5;241;43m=\u001b[39;49m\u001b[43mdtype\u001b[49m\u001b[43m,\u001b[49m\u001b[43m \u001b[49m\u001b[43mcopy\u001b[49m\u001b[38;5;241;43m=\u001b[39;49m\u001b[43mcopy\u001b[49m\u001b[43m,\u001b[49m\u001b[43m \u001b[49m\u001b[43mtyp\u001b[49m\u001b[38;5;241;43m=\u001b[39;49m\u001b[43mmanager\u001b[49m\u001b[43m)\u001b[49m\n\u001b[1;32m    779\u001b[0m \u001b[38;5;28;01melif\u001b[39;00m \u001b[38;5;28misinstance\u001b[39m(data, ma\u001b[38;5;241m.\u001b[39mMaskedArray):\n\u001b[1;32m    780\u001b[0m     \u001b[38;5;28;01mfrom\u001b[39;00m\u001b[38;5;250m \u001b[39m\u001b[38;5;21;01mnumpy\u001b[39;00m\u001b[38;5;21;01m.\u001b[39;00m\u001b[38;5;21;01mma\u001b[39;00m\u001b[38;5;250m \u001b[39m\u001b[38;5;28;01mimport\u001b[39;00m mrecords\n",
      "File \u001b[0;32m~/anaconda3/envs/college-hoops/lib/python3.10/site-packages/pandas/core/internals/construction.py:503\u001b[0m, in \u001b[0;36mdict_to_mgr\u001b[0;34m(data, index, columns, dtype, typ, copy)\u001b[0m\n\u001b[1;32m    499\u001b[0m     \u001b[38;5;28;01melse\u001b[39;00m:\n\u001b[1;32m    500\u001b[0m         \u001b[38;5;66;03m# dtype check to exclude e.g. range objects, scalars\u001b[39;00m\n\u001b[1;32m    501\u001b[0m         arrays \u001b[38;5;241m=\u001b[39m [x\u001b[38;5;241m.\u001b[39mcopy() \u001b[38;5;28;01mif\u001b[39;00m \u001b[38;5;28mhasattr\u001b[39m(x, \u001b[38;5;124m\"\u001b[39m\u001b[38;5;124mdtype\u001b[39m\u001b[38;5;124m\"\u001b[39m) \u001b[38;5;28;01melse\u001b[39;00m x \u001b[38;5;28;01mfor\u001b[39;00m x \u001b[38;5;129;01min\u001b[39;00m arrays]\n\u001b[0;32m--> 503\u001b[0m \u001b[38;5;28;01mreturn\u001b[39;00m \u001b[43marrays_to_mgr\u001b[49m\u001b[43m(\u001b[49m\u001b[43marrays\u001b[49m\u001b[43m,\u001b[49m\u001b[43m \u001b[49m\u001b[43mcolumns\u001b[49m\u001b[43m,\u001b[49m\u001b[43m \u001b[49m\u001b[43mindex\u001b[49m\u001b[43m,\u001b[49m\u001b[43m \u001b[49m\u001b[43mdtype\u001b[49m\u001b[38;5;241;43m=\u001b[39;49m\u001b[43mdtype\u001b[49m\u001b[43m,\u001b[49m\u001b[43m \u001b[49m\u001b[43mtyp\u001b[49m\u001b[38;5;241;43m=\u001b[39;49m\u001b[43mtyp\u001b[49m\u001b[43m,\u001b[49m\u001b[43m \u001b[49m\u001b[43mconsolidate\u001b[49m\u001b[38;5;241;43m=\u001b[39;49m\u001b[43mcopy\u001b[49m\u001b[43m)\u001b[49m\n",
      "File \u001b[0;32m~/anaconda3/envs/college-hoops/lib/python3.10/site-packages/pandas/core/internals/construction.py:114\u001b[0m, in \u001b[0;36marrays_to_mgr\u001b[0;34m(arrays, columns, index, dtype, verify_integrity, typ, consolidate)\u001b[0m\n\u001b[1;32m    111\u001b[0m \u001b[38;5;28;01mif\u001b[39;00m verify_integrity:\n\u001b[1;32m    112\u001b[0m     \u001b[38;5;66;03m# figure out the index, if necessary\u001b[39;00m\n\u001b[1;32m    113\u001b[0m     \u001b[38;5;28;01mif\u001b[39;00m index \u001b[38;5;129;01mis\u001b[39;00m \u001b[38;5;28;01mNone\u001b[39;00m:\n\u001b[0;32m--> 114\u001b[0m         index \u001b[38;5;241m=\u001b[39m \u001b[43m_extract_index\u001b[49m\u001b[43m(\u001b[49m\u001b[43marrays\u001b[49m\u001b[43m)\u001b[49m\n\u001b[1;32m    115\u001b[0m     \u001b[38;5;28;01melse\u001b[39;00m:\n\u001b[1;32m    116\u001b[0m         index \u001b[38;5;241m=\u001b[39m ensure_index(index)\n",
      "File \u001b[0;32m~/anaconda3/envs/college-hoops/lib/python3.10/site-packages/pandas/core/internals/construction.py:677\u001b[0m, in \u001b[0;36m_extract_index\u001b[0;34m(data)\u001b[0m\n\u001b[1;32m    675\u001b[0m lengths \u001b[38;5;241m=\u001b[39m \u001b[38;5;28mlist\u001b[39m(\u001b[38;5;28mset\u001b[39m(raw_lengths))\n\u001b[1;32m    676\u001b[0m \u001b[38;5;28;01mif\u001b[39;00m \u001b[38;5;28mlen\u001b[39m(lengths) \u001b[38;5;241m>\u001b[39m \u001b[38;5;241m1\u001b[39m:\n\u001b[0;32m--> 677\u001b[0m     \u001b[38;5;28;01mraise\u001b[39;00m \u001b[38;5;167;01mValueError\u001b[39;00m(\u001b[38;5;124m\"\u001b[39m\u001b[38;5;124mAll arrays must be of the same length\u001b[39m\u001b[38;5;124m\"\u001b[39m)\n\u001b[1;32m    679\u001b[0m \u001b[38;5;28;01mif\u001b[39;00m have_dicts:\n\u001b[1;32m    680\u001b[0m     \u001b[38;5;28;01mraise\u001b[39;00m \u001b[38;5;167;01mValueError\u001b[39;00m(\n\u001b[1;32m    681\u001b[0m         \u001b[38;5;124m\"\u001b[39m\u001b[38;5;124mMixing dicts with non-Series may lead to ambiguous ordering.\u001b[39m\u001b[38;5;124m\"\u001b[39m\n\u001b[1;32m    682\u001b[0m     )\n",
      "\u001b[0;31mValueError\u001b[0m: All arrays must be of the same length"
     ]
    }
   ],
   "source": [
    "# Load tournament CSV file into a DataFrame\n",
    "tourney_df = pd.read_csv(TOURNAMENT_FILENAME)\n",
    "\n",
    "tourney_dict = {\n",
    "    \"Round\": [],\n",
    "    \"Game\": [],\n",
    "    \"Team1\": [],\n",
    "    \"Team2\": [],\n",
    "    \"Rating1\": [],\n",
    "    \"Rating2\": []\n",
    "}\n",
    "\n",
    "# Add ratings to 1st round\n",
    "for i in range(32):\n",
    "    \n",
    "    team1 = tourney_df[\"Team1\"][i]\n",
    "    team2 = tourney_df[\"Team2\"][i]\n",
    "    rating1 = massey_ratings[team1]\n",
    "    rating2 = massey_ratings[team2]\n",
    "    \n",
    "    tourney_dict[\"Round\"].append(tourney_df[\"Round\"][i])\n",
    "    tourney_dict[\"Game\"].append(tourney_df[\"Game\"][i])\n",
    "    tourney_dict[\"Team1\"].append(team1)\n",
    "    tourney_dict[\"Team2\"].append(team2)\n",
    "    tourney_dict[\"Rating1\"].append(rating1)\n",
    "    tourney_dict[\"Rating2\"].append(rating2)\n",
    "\n",
    "\n",
    "\n",
    "for rd in range(1, 7):\n",
    "    \n",
    "    tourney_dict = simulate_next_round(tourney_dict=tourney_dict,\n",
    "                                       massey_ratings=massey_ratings,\n",
    "                                       rd=rd)\n",
    "            \n",
    "    correct_picks = calculate_correct_picks(tourney_dict=tourney_dict,\n",
    "                                            tourney_df=tourney_df,\n",
    "                                            rd=rd)\n",
    "\n",
    "# print(pd.DataFrame(tourney_dict))"
   ]
  },
  {
   "cell_type": "code",
   "execution_count": null,
   "id": "eecdb58c-92d2-4a15-8532-4f34b6fdc702",
   "metadata": {},
   "outputs": [],
   "source": []
  }
 ],
 "metadata": {
  "kernelspec": {
   "display_name": "college-hoops",
   "language": "python",
   "name": "college-hoops"
  },
  "language_info": {
   "codemirror_mode": {
    "name": "ipython",
    "version": 3
   },
   "file_extension": ".py",
   "mimetype": "text/x-python",
   "name": "python",
   "nbconvert_exporter": "python",
   "pygments_lexer": "ipython3",
   "version": "3.10.16"
  }
 },
 "nbformat": 4,
 "nbformat_minor": 5
}
