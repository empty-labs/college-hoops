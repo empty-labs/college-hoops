{
 "cells": [
  {
   "cell_type": "markdown",
   "id": "3ffedcd9-d96b-4d56-b36b-58f396a72495",
   "metadata": {},
   "source": [
    "# Team Ratings"
   ]
  },
  {
   "cell_type": "code",
   "execution_count": 9,
   "id": "db9d2fd6-9bd7-411e-bef2-ad6dce85e898",
   "metadata": {},
   "outputs": [],
   "source": [
    "# Local libraries\n",
    "import Tools.ratings_utils as ru\n",
    "\n",
    "FILENAME = \"Data/data_2024.json\"\n",
    "TOURNAMENT_FILENAME = \"Data/tournament_2024.csv\""
   ]
  },
  {
   "cell_type": "markdown",
   "id": "1ba74e55-b2f0-4b4d-951d-b5fa193c2497",
   "metadata": {},
   "source": [
    "## Massey Ratings"
   ]
  },
  {
   "cell_type": "code",
   "execution_count": 11,
   "id": "530fd323-e87f-4d69-bb0b-1d5052b7058c",
   "metadata": {},
   "outputs": [
    {
     "name": "stdout",
     "output_type": "stream",
     "text": [
      "Round: 1 / Round of 64 - Correct picks: 22 out of 32\n",
      "Round: 2 / Round of 32 - Correct picks: 12 out of 16\n",
      "Round: 3 / Sweet 16 - Correct picks: 4 out of 8\n",
      "Round: 4 / Elite 8 - Correct picks: 2 out of 4\n",
      "Round: 5 / Final 4 - Correct picks: 0 out of 2\n",
      "Round: 6 / Championship - Correct picks: 0 out of 1\n",
      "\n",
      "Total correct picks in tournament: 40 out of 63\n"
     ]
    }
   ],
   "source": [
    "score_df = ru.set_massey_rating_data_frame(filename=FILENAME)\n",
    "massey_ratings = ru.calculate_massey_ratings(score_df=score_df,\n",
    "                                             debug=False)\n",
    "\n",
    "ru.simulate_tournament(filename=TOURNAMENT_FILENAME,\n",
    "                       ratings=massey_ratings)"
   ]
  },
  {
   "cell_type": "markdown",
   "id": "c3ad93f6-d13e-419a-b517-0eebfcc2aa23",
   "metadata": {},
   "source": [
    "# Colley Ratings"
   ]
  },
  {
   "cell_type": "code",
   "execution_count": 16,
   "id": "acc924b2-87d9-4218-b87f-3984bf066201",
   "metadata": {},
   "outputs": [
    {
     "name": "stdout",
     "output_type": "stream",
     "text": [
      "1. Kansas: 0.57\n",
      "2. Duke: 0.50\n",
      "3. Arkansas: 0.43\n",
      "{'Duke': 0.5, 'Kansas': 0.5714285714285715, 'Arkansas': 0.4285714285714286}\n"
     ]
    }
   ],
   "source": [
    "import numpy as np\n",
    "import pandas as pd\n",
    "\n",
    "def calculate_colley_ratings(games, teams, debug: bool=False):\n",
    "    \"\"\"Calculates Colley rankings given a game results DataFrame.\n",
    "\n",
    "    Args:\n",
    "        games: DataFrame with columns [\"Team1\", \"Team2\", \"Winner\"]\n",
    "        teams: List of unique teams\n",
    "        debug (bool): flag to print debug statements\n",
    "    \n",
    "    Returns:\n",
    "        colley_ratings: Pandas Series with team rankings\n",
    "    \"\"\"\n",
    "\n",
    "    n = len(teams)  # Number of teams\n",
    "    team_index = {team: i for i, team in enumerate(teams)}  # Map teams to indices\n",
    "\n",
    "    # Initialize Colley matrix (C) and RHS vector (b)\n",
    "    C = np.eye(n) * 2  # Start with 2 on the diagonal\n",
    "    b = np.ones(n)  # Initialize b with 1s\n",
    "\n",
    "    # Populate matrix and vector using game results\n",
    "    for _, row in games.iterrows():\n",
    "        t1, t2, winner = row[\"Team1\"], row[\"Team2\"], row[\"Winner\"]\n",
    "        i, j = team_index[t1], team_index[t2]\n",
    "\n",
    "        # Update matrix\n",
    "        C[i, i] += 1  # Each team gets an additional game played\n",
    "        C[j, j] += 1\n",
    "        C[i, j] -= 1\n",
    "        C[j, i] -= 1\n",
    "\n",
    "        # Update b vector\n",
    "        if winner == t1:\n",
    "            b[i] += 0.5\n",
    "            b[j] -= 0.5\n",
    "        else:\n",
    "            b[i] -= 0.5\n",
    "            b[j] += 0.5\n",
    "\n",
    "    # Solve for ratings\n",
    "    ratings = np.linalg.solve(C, b)\n",
    "    \n",
    "    # Convert ratings to a dictionary\n",
    "    colley_ratings = {team: rating for team, rating in zip(teams, ratings)}\n",
    "\n",
    "    # Sort and display rankings\n",
    "    colley_rankings = sorted(colley_ratings.items(), key=lambda x: x[1], reverse=True)\n",
    "    \n",
    "    if debug:\n",
    "        for rank, (team, rating) in enumerate(colley_rankings, 1):\n",
    "            print(f\"{rank}. {team}: {rating:.2f}\")\n",
    "    \n",
    "    return colley_ratings\n",
    "\n",
    "# Example Usage\n",
    "games = pd.DataFrame([\n",
    "    {\"Team1\": \"Kansas\", \"Team2\": \"Duke\", \"Winner\": \"Kansas\"},\n",
    "    {\"Team1\": \"Kansas\", \"Team2\": \"Arkansas\", \"Winner\": \"Arkansas\"},\n",
    "    {\"Team1\": \"Duke\", \"Team2\": \"Arkansas\", \"Winner\": \"Duke\"},\n",
    "    {\"Team1\": \"Kansas\", \"Team2\": \"Arkansas\", \"Winner\": \"Kansas\"}\n",
    "])\n",
    "\n",
    "teams = list(set(games[\"Team1\"]).union(set(games[\"Team2\"])))\n",
    "\n",
    "colley_ratings = calculate_colley_ratings(games=games,\n",
    "                                          teams=teams,\n",
    "                                          debug=True)\n",
    "print(colley_ratings)\n"
   ]
  },
  {
   "cell_type": "markdown",
   "id": "baaf798c-e9a2-4141-8cf8-be87569189fc",
   "metadata": {},
   "source": [
    "# Test code"
   ]
  },
  {
   "cell_type": "code",
   "execution_count": null,
   "id": "e826019a-e94f-4d02-bd1f-b08668df8fc8",
   "metadata": {},
   "outputs": [],
   "source": [
    "# Currently unused (save for Massey, Colley, Elo Ratings)\n",
    "tournament = Tournament.Tournament(url=TOURNAMENT_URL,\n",
    "                                   debug=True)"
   ]
  },
  {
   "cell_type": "code",
   "execution_count": null,
   "id": "b642453a-d7b8-4a30-babd-d1f26837da14",
   "metadata": {},
   "outputs": [],
   "source": [
    "# # Check results manually\n",
    "# import csv\n",
    "\n",
    "# # Convert dictionary to a CSV-friendly format\n",
    "# with open(\"teams.csv\", mode=\"w\", newline=\"\") as file:\n",
    "#     writer = csv.writer(file)\n",
    "\n",
    "#     keys = list(tourney_dict.keys())\n",
    "#     writer.writerow(keys)  # Header\n",
    "\n",
    "#     for i in range(len(tourney_dict[keys[0]])):\n",
    "#         row = []\n",
    "#         for key in keys:\n",
    "#             row.append(tourney_dict[key][i])\n",
    "#         writer.writerow(row)  # Combine team name with stats"
   ]
  },
  {
   "cell_type": "code",
   "execution_count": null,
   "id": "eecdb58c-92d2-4a15-8532-4f34b6fdc702",
   "metadata": {},
   "outputs": [],
   "source": []
  }
 ],
 "metadata": {
  "kernelspec": {
   "display_name": "college-hoops",
   "language": "python",
   "name": "college-hoops"
  },
  "language_info": {
   "codemirror_mode": {
    "name": "ipython",
    "version": 3
   },
   "file_extension": ".py",
   "mimetype": "text/x-python",
   "name": "python",
   "nbconvert_exporter": "python",
   "pygments_lexer": "ipython3",
   "version": "3.10.16"
  }
 },
 "nbformat": 4,
 "nbformat_minor": 5
}
