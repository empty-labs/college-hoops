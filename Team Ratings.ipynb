{
 "cells": [
  {
   "cell_type": "markdown",
   "id": "3ffedcd9-d96b-4d56-b36b-58f396a72495",
   "metadata": {},
   "source": [
    "# Team Ratings"
   ]
  },
  {
   "cell_type": "code",
   "execution_count": 1,
   "id": "db9d2fd6-9bd7-411e-bef2-ad6dce85e898",
   "metadata": {},
   "outputs": [],
   "source": [
    "# Local libraries\n",
    "import Tools.ratings_utils as ru\n",
    "\n",
    "YEAR = 2023\n",
    "FILENAME = f\"Data/data_{YEAR}.json\"\n",
    "TOURNAMENT_FILENAME = f\"Data/tournament_{YEAR}.csv\"\n",
    "\n",
    "\n",
    "score_df = ru.set_rating_data_frame(filename=FILENAME)"
   ]
  },
  {
   "cell_type": "markdown",
   "id": "1ba74e55-b2f0-4b4d-951d-b5fa193c2497",
   "metadata": {},
   "source": [
    "## Massey Ratings"
   ]
  },
  {
   "cell_type": "code",
   "execution_count": 2,
   "id": "530fd323-e87f-4d69-bb0b-1d5052b7058c",
   "metadata": {},
   "outputs": [
    {
     "name": "stdout",
     "output_type": "stream",
     "text": [
      "Round: 1 / Round of 64 - Correct picks: 24 out of 32\n",
      "Round: 2 / Round of 32 - Correct picks: 9 out of 16\n",
      "Round: 3 / Sweet 16 - Correct picks: 2 out of 8\n",
      "Round: 4 / Elite 8 - Correct picks: 0 out of 4\n",
      "Round: 5 / Final 4 - Correct picks: 0 out of 2\n",
      "Round: 6 / Championship - Correct picks: 0 out of 1\n",
      "\n",
      "Total correct picks in tournament: 35 out of 63\n"
     ]
    }
   ],
   "source": [
    "massey_ratings = ru.calculate_massey_ratings(score_df=score_df,\n",
    "                                             debug=False)\n",
    "\n",
    "_ = ru.simulate_tournament(filename=TOURNAMENT_FILENAME,\n",
    "                           ratings=massey_ratings)"
   ]
  },
  {
   "cell_type": "markdown",
   "id": "c3ad93f6-d13e-419a-b517-0eebfcc2aa23",
   "metadata": {},
   "source": [
    "# Colley Ratings"
   ]
  },
  {
   "cell_type": "code",
   "execution_count": 3,
   "id": "acc924b2-87d9-4218-b87f-3984bf066201",
   "metadata": {},
   "outputs": [
    {
     "name": "stdout",
     "output_type": "stream",
     "text": [
      "Round: 1 / Round of 64 - Correct picks: 22 out of 32\n",
      "Round: 2 / Round of 32 - Correct picks: 9 out of 16\n",
      "Round: 3 / Sweet 16 - Correct picks: 2 out of 8\n",
      "Round: 4 / Elite 8 - Correct picks: 0 out of 4\n",
      "Round: 5 / Final 4 - Correct picks: 0 out of 2\n",
      "Round: 6 / Championship - Correct picks: 0 out of 1\n",
      "\n",
      "Total correct picks in tournament: 33 out of 63\n"
     ]
    }
   ],
   "source": [
    "colley_ratings = ru.calculate_colley_ratings(score_df=score_df,\n",
    "                                             debug=False)\n",
    "\n",
    "_ = ru.simulate_tournament(filename=TOURNAMENT_FILENAME,\n",
    "                           ratings=colley_ratings)"
   ]
  },
  {
   "cell_type": "markdown",
   "id": "da1e35d9-a2ff-4aa0-ab23-2be5acd10f4e",
   "metadata": {},
   "source": [
    "# Elo Ratings"
   ]
  },
  {
   "cell_type": "code",
   "execution_count": 4,
   "id": "0f4fff3e-faa7-4fa5-ad86-25796d7006c5",
   "metadata": {},
   "outputs": [
    {
     "name": "stdout",
     "output_type": "stream",
     "text": [
      "Round: 1 / Round of 64 - Correct picks: 17 out of 32\n",
      "Round: 2 / Round of 32 - Correct picks: 7 out of 16\n",
      "Round: 3 / Sweet 16 - Correct picks: 2 out of 8\n",
      "Round: 4 / Elite 8 - Correct picks: 0 out of 4\n",
      "Round: 5 / Final 4 - Correct picks: 0 out of 2\n",
      "Round: 6 / Championship - Correct picks: 0 out of 1\n",
      "\n",
      "Total correct picks in tournament: 26 out of 63\n"
     ]
    }
   ],
   "source": [
    "adj_elo_ratings = ru.calculate_elo_ratings(score_df=score_df,\n",
    "                                           K=30,\n",
    "                                           debug=False,\n",
    "                                           adjust_K=True)\n",
    "\n",
    "_ = ru.simulate_tournament(filename=TOURNAMENT_FILENAME,\n",
    "                           ratings=adj_elo_ratings)"
   ]
  },
  {
   "cell_type": "code",
   "execution_count": 5,
   "id": "5d02e887-3a7e-4ce0-ae95-d1c983670edb",
   "metadata": {},
   "outputs": [
    {
     "name": "stdout",
     "output_type": "stream",
     "text": [
      "Round: 1 / Round of 64 - Correct picks: 14 out of 32\n",
      "Round: 2 / Round of 32 - Correct picks: 6 out of 16\n",
      "Round: 3 / Sweet 16 - Correct picks: 3 out of 8\n",
      "Round: 4 / Elite 8 - Correct picks: 1 out of 4\n",
      "Round: 5 / Final 4 - Correct picks: 0 out of 2\n",
      "Round: 6 / Championship - Correct picks: 0 out of 1\n",
      "\n",
      "Total correct picks in tournament: 24 out of 63\n"
     ]
    }
   ],
   "source": [
    "elo_ratings = ru.calculate_elo_ratings(score_df=score_df,\n",
    "                                       K=30,\n",
    "                                       debug=False,\n",
    "                                       adjust_K=False)\n",
    "\n",
    "_ = ru.simulate_tournament(filename=TOURNAMENT_FILENAME,\n",
    "                           ratings=elo_ratings)"
   ]
  },
  {
   "cell_type": "markdown",
   "id": "0292c8e7-f87c-43a6-9807-eafc37c70e8f",
   "metadata": {},
   "source": [
    "# SRS Ratings"
   ]
  },
  {
   "cell_type": "code",
   "execution_count": 6,
   "id": "a3654c25-079e-4142-911f-36e9b6c7e560",
   "metadata": {},
   "outputs": [
    {
     "ename": "KeyError",
     "evalue": "'Fairleigh Dickinson-Florham'",
     "output_type": "error",
     "traceback": [
      "\u001b[0;31m---------------------------------------------------------------------------\u001b[0m",
      "\u001b[0;31mKeyError\u001b[0m                                  Traceback (most recent call last)",
      "Cell \u001b[0;32mIn[6], line 4\u001b[0m\n\u001b[1;32m      1\u001b[0m srs_ratings \u001b[38;5;241m=\u001b[39m ru\u001b[38;5;241m.\u001b[39mcompile_srs_ratings(filename\u001b[38;5;241m=\u001b[39mFILENAME,\n\u001b[1;32m      2\u001b[0m                                      debug\u001b[38;5;241m=\u001b[39m\u001b[38;5;28;01mFalse\u001b[39;00m)\n\u001b[0;32m----> 4\u001b[0m _ \u001b[38;5;241m=\u001b[39m \u001b[43mru\u001b[49m\u001b[38;5;241;43m.\u001b[39;49m\u001b[43msimulate_tournament\u001b[49m\u001b[43m(\u001b[49m\u001b[43mfilename\u001b[49m\u001b[38;5;241;43m=\u001b[39;49m\u001b[43mTOURNAMENT_FILENAME\u001b[49m\u001b[43m,\u001b[49m\n\u001b[1;32m      5\u001b[0m \u001b[43m                           \u001b[49m\u001b[43mratings\u001b[49m\u001b[38;5;241;43m=\u001b[39;49m\u001b[43msrs_ratings\u001b[49m\u001b[43m)\u001b[49m\n",
      "File \u001b[0;32m~/PycharmProjects/college-hoops/Tools/ratings_utils.py:554\u001b[0m, in \u001b[0;36msimulate_tournament\u001b[0;34m(filename, ratings, debug)\u001b[0m\n\u001b[1;32m    551\u001b[0m team2 \u001b[38;5;241m=\u001b[39m tourney_df[\u001b[38;5;124m\"\u001b[39m\u001b[38;5;124mTeam2\u001b[39m\u001b[38;5;124m\"\u001b[39m][i]\n\u001b[1;32m    553\u001b[0m rating1 \u001b[38;5;241m=\u001b[39m ratings[team1]\n\u001b[0;32m--> 554\u001b[0m rating2 \u001b[38;5;241m=\u001b[39m \u001b[43mratings\u001b[49m\u001b[43m[\u001b[49m\u001b[43mteam2\u001b[49m\u001b[43m]\u001b[49m\n\u001b[1;32m    556\u001b[0m tourney_dict[\u001b[38;5;124m\"\u001b[39m\u001b[38;5;124mRound\u001b[39m\u001b[38;5;124m\"\u001b[39m]\u001b[38;5;241m.\u001b[39mappend(tourney_df[\u001b[38;5;124m\"\u001b[39m\u001b[38;5;124mRound\u001b[39m\u001b[38;5;124m\"\u001b[39m][i])\n\u001b[1;32m    557\u001b[0m tourney_dict[\u001b[38;5;124m\"\u001b[39m\u001b[38;5;124mGame\u001b[39m\u001b[38;5;124m\"\u001b[39m]\u001b[38;5;241m.\u001b[39mappend(tourney_df[\u001b[38;5;124m\"\u001b[39m\u001b[38;5;124mGame\u001b[39m\u001b[38;5;124m\"\u001b[39m][i])\n",
      "\u001b[0;31mKeyError\u001b[0m: 'Fairleigh Dickinson-Florham'"
     ]
    }
   ],
   "source": [
    "srs_ratings = ru.compile_srs_ratings(filename=FILENAME,\n",
    "                                     debug=False)\n",
    "\n",
    "_ = ru.simulate_tournament(filename=TOURNAMENT_FILENAME,\n",
    "                           ratings=srs_ratings)"
   ]
  },
  {
   "cell_type": "markdown",
   "id": "6892f457-c431-4ec6-adef-eb918376f89d",
   "metadata": {},
   "source": [
    "# Combined Ratings"
   ]
  },
  {
   "cell_type": "code",
   "execution_count": null,
   "id": "aec8e556-8e80-4c72-85ee-f2d95a4d731f",
   "metadata": {},
   "outputs": [],
   "source": [
    "import numpy as np\n",
    "\n",
    "def normalize_ratings(ratings: dict, weight: float=1):\n",
    "    \"\"\"Normalize rating values between 0 and 1\n",
    "\n",
    "    Args:\n",
    "        ratings (dict): dictionary of ratings\n",
    "        weight (float): scaled value applied to normalized rating systems\n",
    "        \n",
    "    Returns:\n",
    "        normalized_dict (dict): dictionary of normalized ratings\n",
    "    \"\"\"\n",
    "\n",
    "    values = list(ratings.values())  # [15, 20, 30]\n",
    "    \n",
    "    # Min-Max Scaling\n",
    "    min_val = min(ratings.values())\n",
    "    max_val = max(ratings.values())\n",
    "    \n",
    "    normalized_dict = {k: weight * (v - min_val) / (max_val - min_val) for k, v in ratings.items()}\n",
    "    normalized_values = list(normalized_dict.values())  # [15, 20, 30]\n",
    "    \n",
    "    return normalized_dict\n"
   ]
  },
  {
   "cell_type": "code",
   "execution_count": null,
   "id": "11cbf51e-f432-48be-bec4-b43cb351e31d",
   "metadata": {},
   "outputs": [],
   "source": [
    "step = 0.2\n",
    "iterations = int((1 / step) + 1)\n",
    "total_iterations = 0\n",
    "\n",
    "weight_dict = {'Massey': [], 'Colley': [], 'Adjusted Elo': [], 'Elo': [], 'Correct': []}\n",
    "\n",
    "for i in range(iterations):\n",
    "    for j in range(iterations):\n",
    "        for k in range(iterations):\n",
    "            for l in range(iterations):\n",
    "                total_iterations += 1\n",
    "                \n",
    "                w1 = i * step\n",
    "                w2 = j * step\n",
    "                w3 = k * step\n",
    "                w4 = l * step\n",
    "    \n",
    "                # Normalize weights\n",
    "                # min_w = min([w1, w2, w3])\n",
    "                # max_w = max([w1, w2, w3])\n",
    "                # if max_w - min_w > 0:\n",
    "                #     w1 = (w1 - min_w) / (max_w - min_w)\n",
    "                #     w2 = (w2 - min_w) / (max_w - min_w)\n",
    "                #     w3 = (w3 - min_w) / (max_w - min_w)\n",
    "    \n",
    "                normalized_massey_ratings = normalize_ratings(ratings=massey_ratings, weight=w1)\n",
    "                normalized_colley_ratings = normalize_ratings(ratings=colley_ratings, weight=w2)\n",
    "                normalized_adj_elo_ratings = normalize_ratings(ratings=adj_elo_ratings, weight=w3)\n",
    "                normalized_elo_ratings = normalize_ratings(ratings=elo_ratings, weight=w4)\n",
    "                \n",
    "                combined_ratings = {}\n",
    "                \n",
    "                for key, v in normalized_massey_ratings.items():\n",
    "                    combined_ratings[key] = v\n",
    "                for key, v in normalized_colley_ratings.items():\n",
    "                    combined_ratings[key] += v\n",
    "                for key, v in normalized_adj_elo_ratings.items():\n",
    "                    combined_ratings[key] += v\n",
    "                for key, v in normalized_elo_ratings.items():\n",
    "                    combined_ratings[key] += v\n",
    "                \n",
    "                total_correct_picks = ru.simulate_tournament(filename=TOURNAMENT_FILENAME,\n",
    "                                                             ratings=combined_ratings,\n",
    "                                                             debug=False)\n",
    "            \n",
    "                weight_dict['Massey'].append(w1)\n",
    "                weight_dict['Colley'].append(w2)\n",
    "                weight_dict['Adjusted Elo'].append(w3)\n",
    "                weight_dict['Elo'].append(w4)\n",
    "                weight_dict['Correct'].append(total_correct_picks)\n",
    "\n",
    "max_correct = max(weight_dict['Correct'])\n",
    "print(f\"Max correct picks: {max_correct} in {total_iterations} iterations\")\n",
    "\n",
    "num_max = 0\n",
    "\n",
    "for i in range(len(weight_dict['Correct'])):\n",
    "\n",
    "    if weight_dict['Correct'][i] == max_correct:\n",
    "        num_max += 1\n",
    "        print(f\"{num_max}. Massey: {weight_dict['Massey'][i]:.3f}, Colley: {weight_dict['Colley'][i]:.3f}, Adjusted Elo: {weight_dict['Adjusted Elo'][i]:.3f}, Elo: {weight_dict['Elo'][i]:.3f}\")\n"
   ]
  },
  {
   "cell_type": "markdown",
   "id": "baaf798c-e9a2-4141-8cf8-be87569189fc",
   "metadata": {},
   "source": [
    "# Test code"
   ]
  },
  {
   "cell_type": "code",
   "execution_count": null,
   "id": "e826019a-e94f-4d02-bd1f-b08668df8fc8",
   "metadata": {},
   "outputs": [],
   "source": [
    "# Currently unused (save for Massey, Colley, Elo Ratings)\n",
    "tournament = Tournament.Tournament(url=TOURNAMENT_URL,\n",
    "                                   debug=True)"
   ]
  },
  {
   "cell_type": "code",
   "execution_count": null,
   "id": "b642453a-d7b8-4a30-babd-d1f26837da14",
   "metadata": {},
   "outputs": [],
   "source": [
    "# # Check results manually\n",
    "# import csv\n",
    "\n",
    "# # Convert dictionary to a CSV-friendly format\n",
    "# with open(\"teams.csv\", mode=\"w\", newline=\"\") as file:\n",
    "#     writer = csv.writer(file)\n",
    "\n",
    "#     keys = list(tourney_dict.keys())\n",
    "#     writer.writerow(keys)  # Header\n",
    "\n",
    "#     for i in range(len(tourney_dict[keys[0]])):\n",
    "#         row = []\n",
    "#         for key in keys:\n",
    "#             row.append(tourney_dict[key][i])\n",
    "#         writer.writerow(row)  # Combine team name with stats"
   ]
  },
  {
   "cell_type": "code",
   "execution_count": null,
   "id": "eecdb58c-92d2-4a15-8532-4f34b6fdc702",
   "metadata": {},
   "outputs": [],
   "source": []
  }
 ],
 "metadata": {
  "kernelspec": {
   "display_name": "college-hoops",
   "language": "python",
   "name": "college-hoops"
  },
  "language_info": {
   "codemirror_mode": {
    "name": "ipython",
    "version": 3
   },
   "file_extension": ".py",
   "mimetype": "text/x-python",
   "name": "python",
   "nbconvert_exporter": "python",
   "pygments_lexer": "ipython3",
   "version": "3.10.16"
  }
 },
 "nbformat": 4,
 "nbformat_minor": 5
}
