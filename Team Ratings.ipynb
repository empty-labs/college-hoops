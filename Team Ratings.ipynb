{
 "cells": [
  {
   "cell_type": "markdown",
   "id": "3ffedcd9-d96b-4d56-b36b-58f396a72495",
   "metadata": {},
   "source": [
    "# Team Ratings"
   ]
  },
  {
   "cell_type": "code",
   "execution_count": null,
   "id": "e826019a-e94f-4d02-bd1f-b08668df8fc8",
   "metadata": {},
   "outputs": [],
   "source": [
    "# Currently unused (save for Massey, Colley, Elo Ratings)\n",
    "tournament = Tournament.Tournament(url=TOURNAMENT_URL,\n",
    "                                   debug=True)"
   ]
  },
  {
   "cell_type": "code",
   "execution_count": null,
   "id": "efc8d778-fb62-4130-87e2-50b7b7984a40",
   "metadata": {},
   "outputs": [],
   "source": [
    "import pandas as pd\n",
    "\n",
    "# Example dataset\n",
    "df = pd.DataFrame({\n",
    "    \"Home\": [\"Kansas\", \"Arkansas\", \"Duke\"],\n",
    "    \"Home_Score\": [78, 70, 65],\n",
    "    \"Away\": [\"Duke\", \"Kansas\", \"Arkansas\"],\n",
    "    \"Away_Score\": [75, 68, 52]\n",
    "})"
   ]
  },
  {
   "cell_type": "code",
   "execution_count": null,
   "id": "919011f2-37f0-4e62-a099-b8ee62bcc844",
   "metadata": {},
   "outputs": [],
   "source": [
    "import numpy as np\n",
    "\n",
    "# Get unique teams and index them\n",
    "teams = list(set(df[\"Home\"]).union(set(df[\"Away\"])))\n",
    "team_index = {team: i for i, team in enumerate(teams)}\n",
    "N = len(teams)\n",
    "\n",
    "# Initialize Massey matrix and score vector\n",
    "M = np.zeros((N, N))\n",
    "b = np.zeros(N)\n",
    "\n",
    "# Fill the matrix and score vector\n",
    "for _, row in df.iterrows():\n",
    "    h, a = team_index[row[\"Home\"]], team_index[row[\"Away\"]]\n",
    "    home_margin = row[\"Home_Score\"] - row[\"Away_Score\"]\n",
    "\n",
    "    M[h, h] += 1\n",
    "    M[a, a] += 1\n",
    "    M[h, a] -= 1\n",
    "    M[a, h] -= 1\n",
    "\n",
    "    b[h] += home_margin\n",
    "    b[a] -= home_margin\n",
    "\n",
    "# Replace last row to enforce sum constraint (makes matrix invertible)\n",
    "M[-1, :] = 1\n",
    "b[-1] = 0"
   ]
  },
  {
   "cell_type": "code",
   "execution_count": null,
   "id": "4320f9b9-4b3f-4f3f-975e-1af42ad20ff1",
   "metadata": {},
   "outputs": [],
   "source": [
    "ratings = np.linalg.solve(M, b)\n",
    "\n",
    "# Convert ratings to a dictionary\n",
    "massey_ratings = {team: rating for team, rating in zip(teams, ratings)}\n",
    "\n",
    "# Sort and display rankings\n",
    "massey_rankings = sorted(massey_ratings.items(), key=lambda x: x[1], reverse=True)\n",
    "\n",
    "for rank, (team, rating) in enumerate(massey_rankings, 1):\n",
    "    print(f\"{rank}. {team}: {rating:.2f}\")"
   ]
  },
  {
   "cell_type": "markdown",
   "id": "ae7c0758-15a4-4b67-b51c-64806f7c7efd",
   "metadata": {},
   "source": [
    "# Sample Code"
   ]
  },
  {
   "cell_type": "code",
   "execution_count": 12,
   "id": "cd3ac669-1aff-4f21-8677-2c4533574771",
   "metadata": {},
   "outputs": [],
   "source": [
    "import pandas as pd\n",
    "\n",
    "# Example dataset\n",
    "df = pd.DataFrame({\n",
    "    \"Home\": [\"Kansas\", \"Arkansas\", \"Duke\"],\n",
    "    \"Home_Score\": [78, 70, 65],\n",
    "    \"Away\": [\"Duke\", \"Kansas\", \"Arkansas\"],\n",
    "    \"Away_Score\": [75, 68, 52]\n",
    "})"
   ]
  },
  {
   "cell_type": "code",
   "execution_count": 13,
   "id": "f0f74f2f-dbfd-4cc1-b9e0-0b5d5e420093",
   "metadata": {},
   "outputs": [],
   "source": [
    "import numpy as np\n",
    "\n",
    "# Get unique teams and index them\n",
    "teams = list(set(df[\"Home\"]).union(set(df[\"Away\"])))\n",
    "team_index = {team: i for i, team in enumerate(teams)}\n",
    "N = len(teams)\n",
    "\n",
    "# Initialize Massey matrix and score vector\n",
    "M = np.zeros((N, N))\n",
    "b = np.zeros(N)\n",
    "\n",
    "# Fill the matrix and score vector\n",
    "for _, row in df.iterrows():\n",
    "    h, a = team_index[row[\"Home\"]], team_index[row[\"Away\"]]\n",
    "    home_margin = row[\"Home_Score\"] - row[\"Away_Score\"]\n",
    "\n",
    "    M[h, h] += 1\n",
    "    M[a, a] += 1\n",
    "    M[h, a] -= 1\n",
    "    M[a, h] -= 1\n",
    "\n",
    "    b[h] += home_margin\n",
    "    b[a] -= home_margin\n",
    "\n",
    "# Replace last row to enforce sum constraint (makes matrix invertible)\n",
    "M[-1, :] = 1\n",
    "b[-1] = 0"
   ]
  },
  {
   "cell_type": "code",
   "execution_count": 14,
   "id": "2b2b03f2-142f-49da-b88b-e7f71cf5b5cb",
   "metadata": {},
   "outputs": [
    {
     "name": "stdout",
     "output_type": "stream",
     "text": [
      "1. Duke: 3.33\n",
      "2. Kansas: 0.33\n",
      "3. Arkansas: -3.67\n"
     ]
    }
   ],
   "source": [
    "ratings = np.linalg.solve(M, b)\n",
    "\n",
    "# Convert ratings to a dictionary\n",
    "massey_ratings = {team: rating for team, rating in zip(teams, ratings)}\n",
    "\n",
    "# Sort and display rankings\n",
    "massey_rankings = sorted(massey_ratings.items(), key=lambda x: x[1], reverse=True)\n",
    "\n",
    "for rank, (team, rating) in enumerate(massey_rankings, 1):\n",
    "    print(f\"{rank}. {team}: {rating:.2f}\")"
   ]
  },
  {
   "cell_type": "code",
   "execution_count": null,
   "id": "eecdb58c-92d2-4a15-8532-4f34b6fdc702",
   "metadata": {},
   "outputs": [],
   "source": []
  }
 ],
 "metadata": {
  "kernelspec": {
   "display_name": "college-hoops",
   "language": "python",
   "name": "college-hoops"
  },
  "language_info": {
   "codemirror_mode": {
    "name": "ipython",
    "version": 3
   },
   "file_extension": ".py",
   "mimetype": "text/x-python",
   "name": "python",
   "nbconvert_exporter": "python",
   "pygments_lexer": "ipython3",
   "version": "3.10.16"
  }
 },
 "nbformat": 4,
 "nbformat_minor": 5
}
