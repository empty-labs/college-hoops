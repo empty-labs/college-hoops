{
 "cells": [
  {
   "cell_type": "markdown",
   "id": "78a62ecd-81cf-4fce-b77c-e6f68b492a79",
   "metadata": {},
   "source": [
    "# Machine Learning Approach"
   ]
  },
  {
   "cell_type": "code",
   "execution_count": 1,
   "id": "1113c31e-429f-4f80-8e75-252aef6e3c6c",
   "metadata": {},
   "outputs": [
    {
     "name": "stderr",
     "output_type": "stream",
     "text": [
      "/Users/derekfromtexas/anaconda3/envs/college-hoops/lib/python3.10/site-packages/scipy/__init__.py:146: UserWarning: A NumPy version >=1.16.5 and <1.23.0 is required for this version of SciPy (detected version 1.26.4\n",
      "  warnings.warn(f\"A NumPy version >={np_minversion} and <{np_maxversion}\"\n"
     ]
    }
   ],
   "source": [
    "# Local libraries\n",
    "import Tools.ratings_utils as ru\n",
    "import Tools.system_utils as sys\n",
    "\n",
    "# Third party packages\n",
    "import pandas as pd\n",
    "from sklearn.model_selection import train_test_split\n",
    "from sklearn.linear_model import LogisticRegression\n",
    "from sklearn.metrics import accuracy_score, roc_auc_score\n",
    "import xgboost as xgb\n",
    "\n",
    "\n",
    "YEAR = 2025\n",
    "FILENAME = f\"Data/Seasons/data_{YEAR}.json\"\n",
    "TOURNAMENT_FILENAME = f\"Data/Tournaments/tournament_{YEAR}.csv\"\n",
    "PICKS_FILENAME = f\"Data/Tournament Picks/picks_{YEAR}.csv\"\n",
    "RATINGS_FILENAME = f\"Data/Season Ratings/data_{YEAR}.json\"\n",
    "\n",
    "\n",
    "# Create data frame for valid teams in the current season that can be used for tournament simulation\n",
    "score_df = ru.set_rating_data_frame(filename=FILENAME)\n",
    "rating_score_df = None"
   ]
  },
  {
   "cell_type": "markdown",
   "id": "43b03187-3b08-4c86-a4d9-7e85bc8daf8d",
   "metadata": {},
   "source": [
    "### Multiple Seasons"
   ]
  },
  {
   "cell_type": "code",
   "execution_count": 2,
   "id": "040e9867-bf1f-43d0-a7f3-c85622571036",
   "metadata": {},
   "outputs": [],
   "source": [
    "import pandas as pd\n",
    "\n",
    "YEARS = [2021, 2022, 2023, 2024, 2025]\n",
    "YEARS = [2021, 2022, 2023, 2024]\n",
    "\n",
    "\n",
    "for YEAR in YEARS:\n",
    "    FILENAME = f\"Data/Seasons/data_{YEAR}.json\"\n",
    "    TOURNAMENT_FILENAME = f\"Data/Tournaments/tournament_{YEAR}.csv\"\n",
    "    PICKS_FILENAME = f\"Data/Tournament Picks/picks_{YEAR}.csv\"\n",
    "    \n",
    "    if YEAR is YEARS[0]:\n",
    "        # Create data frame for valid teams in the current season that can be used for tournament simulation\n",
    "        score_df = ru.set_rating_data_frame(filename=FILENAME)\n",
    "    else:\n",
    "        # Concatenate\n",
    "        new_season_score_df = ru.set_rating_data_frame(filename=FILENAME)\n",
    "        score_df = pd.concat([score_df, new_season_score_df], ignore_index=True)\n",
    "\n",
    "\n",
    "TOURNAMENT_YEAR = YEARS[-1]\n",
    "FILENAME_YEARS = f\"{YEARS[0]}-{TOURNAMENT_YEAR}\"\n",
    "PICKS_FILENAME = f\"Data/Tournament Picks/picks_{FILENAME_YEARS}.csv\"\n",
    "RATINGS_FILENAME = f\"Data/Season Ratings/data_{FILENAME_YEARS}.json\""
   ]
  },
  {
   "cell_type": "markdown",
   "id": "a6d6118b-5fc5-43ab-8782-0a1c034d6438",
   "metadata": {},
   "source": [
    "# Save Ratings to JSON\n",
    "### (Skip if already run for this season)"
   ]
  },
  {
   "cell_type": "code",
   "execution_count": 3,
   "id": "1cf01400-79d7-46f9-bca2-173b9cf91c31",
   "metadata": {
    "scrolled": true
   },
   "outputs": [
    {
     "name": "stdout",
     "output_type": "stream",
     "text": [
      "Complete: 226 / 22595 or 1.0%\n",
      "Complete: 452 / 22595 or 2.0%\n",
      "Complete: 678 / 22595 or 3.001%\n",
      "Complete: 904 / 22595 or 4.001%\n",
      "Complete: 1130 / 22595 or 5.001%\n",
      "Complete: 1356 / 22595 or 6.001%\n",
      "Complete: 1582 / 22595 or 7.002%\n",
      "Complete: 1808 / 22595 or 8.002%\n",
      "Complete: 2034 / 22595 or 9.002%\n",
      "Complete: 2260 / 22595 or 10.002%\n",
      "Complete: 2486 / 22595 or 11.002%\n",
      "Complete: 2712 / 22595 or 12.003%\n",
      "Complete: 2938 / 22595 or 13.003%\n",
      "Complete: 3164 / 22595 or 14.003%\n",
      "Complete: 3390 / 22595 or 15.003%\n",
      "Complete: 3616 / 22595 or 16.004%\n",
      "Complete: 3842 / 22595 or 17.004%\n",
      "Complete: 4067 / 22595 or 18.0%\n",
      "Complete: 4293 / 22595 or 19.0%\n",
      "Complete: 4519 / 22595 or 20.0%\n",
      "Complete: 4745 / 22595 or 21.0%\n",
      "Complete: 4971 / 22595 or 22.0%\n",
      "Complete: 5197 / 22595 or 23.001%\n",
      "Complete: 5423 / 22595 or 24.001%\n",
      "Complete: 5649 / 22595 or 25.001%\n",
      "Complete: 5875 / 22595 or 26.001%\n",
      "Complete: 6101 / 22595 or 27.002%\n",
      "Complete: 6327 / 22595 or 28.002%\n",
      "Complete: 6553 / 22595 or 29.002%\n",
      "Complete: 6779 / 22595 or 30.002%\n",
      "Complete: 7005 / 22595 or 31.002%\n",
      "Complete: 7231 / 22595 or 32.003%\n",
      "Complete: 7457 / 22595 or 33.003%\n",
      "Complete: 7683 / 22595 or 34.003%\n",
      "Complete: 7909 / 22595 or 35.003%\n",
      "Complete: 8135 / 22595 or 36.004%\n",
      "Complete: 8361 / 22595 or 37.004%\n",
      "Complete: 8586 / 22595 or 38.0%\n",
      "Complete: 8812 / 22595 or 39.0%\n",
      "Complete: 9038 / 22595 or 40.0%\n",
      "Complete: 9264 / 22595 or 41.0%\n",
      "Complete: 9490 / 22595 or 42.0%\n",
      "Complete: 9716 / 22595 or 43.001%\n",
      "Complete: 9942 / 22595 or 44.001%\n",
      "Complete: 10168 / 22595 or 45.001%\n",
      "Complete: 10394 / 22595 or 46.001%\n",
      "Complete: 10620 / 22595 or 47.002%\n",
      "Complete: 10846 / 22595 or 48.002%\n",
      "Complete: 11072 / 22595 or 49.002%\n",
      "Complete: 11298 / 22595 or 50.002%\n",
      "Complete: 11524 / 22595 or 51.002%\n",
      "Complete: 11750 / 22595 or 52.003%\n",
      "Complete: 11976 / 22595 or 53.003%\n",
      "Complete: 12202 / 22595 or 54.003%\n",
      "Complete: 12428 / 22595 or 55.003%\n",
      "Complete: 12654 / 22595 or 56.004%\n",
      "Complete: 12880 / 22595 or 57.004%\n",
      "Complete: 13105 / 22595 or 58.0%\n",
      "Complete: 13331 / 22595 or 59.0%\n",
      "Complete: 13557 / 22595 or 60.0%\n",
      "Complete: 13783 / 22595 or 61.0%\n",
      "Complete: 14009 / 22595 or 62.0%\n",
      "Complete: 14235 / 22595 or 63.001%\n",
      "Complete: 14461 / 22595 or 64.001%\n",
      "Complete: 14687 / 22595 or 65.001%\n",
      "Complete: 14913 / 22595 or 66.001%\n",
      "Complete: 15139 / 22595 or 67.002%\n",
      "Complete: 15365 / 22595 or 68.002%\n",
      "Complete: 15591 / 22595 or 69.002%\n",
      "Complete: 15817 / 22595 or 70.002%\n",
      "Complete: 16043 / 22595 or 71.002%\n",
      "Complete: 16269 / 22595 or 72.003%\n",
      "Complete: 16495 / 22595 or 73.003%\n",
      "Complete: 16721 / 22595 or 74.003%\n",
      "Complete: 16947 / 22595 or 75.003%\n",
      "Complete: 17173 / 22595 or 76.004%\n",
      "Complete: 17399 / 22595 or 77.004%\n",
      "Complete: 17624 / 22595 or 78.0%\n",
      "Complete: 17850 / 22595 or 79.0%\n",
      "Complete: 18076 / 22595 or 80.0%\n",
      "Complete: 18302 / 22595 or 81.0%\n",
      "Complete: 18528 / 22595 or 82.0%\n",
      "Complete: 18754 / 22595 or 83.001%\n",
      "Complete: 18980 / 22595 or 84.001%\n",
      "Complete: 19206 / 22595 or 85.001%\n",
      "Complete: 19432 / 22595 or 86.001%\n",
      "Complete: 19658 / 22595 or 87.002%\n",
      "Complete: 19884 / 22595 or 88.002%\n",
      "Complete: 20110 / 22595 or 89.002%\n",
      "Complete: 20336 / 22595 or 90.002%\n",
      "Complete: 20562 / 22595 or 91.002%\n",
      "Complete: 20788 / 22595 or 92.003%\n",
      "Complete: 21014 / 22595 or 93.003%\n",
      "Complete: 21240 / 22595 or 94.003%\n",
      "Complete: 21466 / 22595 or 95.003%\n",
      "Complete: 21692 / 22595 or 96.004%\n",
      "Complete: 21918 / 22595 or 97.004%\n",
      "Complete: 22143 / 22595 or 98.0%\n",
      "Complete: 22369 / 22595 or 99.0%\n",
      "Complete: 22595 / 22595 or 100.0%\n"
     ]
    }
   ],
   "source": [
    "rating_score_df = ru.add_ratings_per_game(score_df=score_df)"
   ]
  },
  {
   "cell_type": "code",
   "execution_count": 4,
   "id": "579d21d3-2640-4fc4-9e62-ce584204b056",
   "metadata": {},
   "outputs": [],
   "source": [
    "rating_score_df.to_json(RATINGS_FILENAME, orient='records', indent=4)"
   ]
  },
  {
   "cell_type": "markdown",
   "id": "e012d948-fd2e-4011-ba53-7128264b3fd3",
   "metadata": {},
   "source": [
    "# Logistic Regression Model - Option #1\n",
    "### Home team is winner -> 1\n",
    "### Away team is winner -> 0"
   ]
  },
  {
   "cell_type": "code",
   "execution_count": null,
   "id": "ab30286e-ee4d-46f0-8835-94f3c4d4b2e0",
   "metadata": {},
   "outputs": [],
   "source": [
    "# Read data from JSON\n",
    "rating_score_df = pd.read_json(RATINGS_FILENAME)\n",
    "\n",
    "# Set data frame and target variable\n",
    "df = rating_score_df.copy()\n",
    "df[\"y\"] = (df[\"Winner\"] == df[\"Home\"]).astype(int)\n",
    "\n",
    "# Add feature columns\n",
    "df[\"Massey_diff\"] = df[\"Home_Massey\"] - df[\"Away_Massey\"]\n",
    "df[\"Colley_diff\"] = df[\"Home_Colley\"] - df[\"Away_Colley\"]\n",
    "df[\"Elo_diff\"] = df[\"Home_Elo\"] - df[\"Away_Elo\"]\n",
    "df[\"Adj_Elo_diff\"] = df[\"Home_Adj_Elo\"] - df[\"Away_Adj_Elo\"]"
   ]
  },
  {
   "cell_type": "code",
   "execution_count": null,
   "id": "3d852d00-0ee0-4e02-98dc-0d5c7952a359",
   "metadata": {},
   "outputs": [],
   "source": [
    "# Set features\n",
    "features = [\n",
    "    \"Massey_diff\",\n",
    "    \"Colley_diff\",\n",
    "    \"Elo_diff\",\n",
    "    \"Adj_Elo_diff\"\n",
    "]\n",
    "\n",
    "# Create X, y data frames\n",
    "X = df[features]\n",
    "y = df[\"y\"]\n",
    "\n",
    "# Split train/test data sets\n",
    "# X_train, X_test, y_train, y_test = train_test_split(X, y, test_size=0.2, shuffle=False)\n",
    "X_train, X_test, y_train, y_test = train_test_split(X, y, test_size=0.2, random_state=42)"
   ]
  },
  {
   "cell_type": "code",
   "execution_count": null,
   "id": "dc5b26fc-a881-448b-a37a-545743828fd6",
   "metadata": {},
   "outputs": [],
   "source": [
    "model = LogisticRegression()\n",
    "model.fit(X_train, y_train)"
   ]
  },
  {
   "cell_type": "code",
   "execution_count": null,
   "id": "785a324e-0109-4e7a-bce3-6cdd66e36ea4",
   "metadata": {},
   "outputs": [],
   "source": [
    "y_pred = model.predict(X_test)\n",
    "y_prob = model.predict_proba(X_test)[:, 1]\n",
    "\n",
    "print(\"Accuracy:\", accuracy_score(y_test, y_pred))\n",
    "print(\"ROC AUC:\", roc_auc_score(y_test, y_prob))"
   ]
  },
  {
   "cell_type": "code",
   "execution_count": null,
   "id": "9396405f-5d69-4fb0-a671-42d4677d0023",
   "metadata": {},
   "outputs": [],
   "source": [
    "coef_df = pd.DataFrame({\n",
    "    \"Feature\": X.columns,\n",
    "    \"Coefficient\": model.coef_[0]\n",
    "})\n",
    "print(coef_df)"
   ]
  },
  {
   "cell_type": "markdown",
   "id": "d440007d-c44b-4497-9f2c-d799b569dd6c",
   "metadata": {},
   "source": [
    "# Test Logistic Regression Model Against March Madness Tournament"
   ]
  },
  {
   "cell_type": "code",
   "execution_count": null,
   "id": "306ea948-0262-44e2-8c1c-4581946e2068",
   "metadata": {},
   "outputs": [],
   "source": [
    "ratings_dict = ru.compile_ratings_dict(score_df=score_df)\n",
    "\n",
    "_, _, tourney_dict = ru.simulate_tournament_with_all_ratings(filename=TOURNAMENT_FILENAME,\n",
    "                                                             ratings=ratings_dict,\n",
    "                                                             model=model)\n",
    "sys.write_tournament_to_csv(tourney_dict=tourney_dict,\n",
    "                            filename=PICKS_FILENAME,\n",
    "                            rating_type=\"log_model\")"
   ]
  },
  {
   "cell_type": "markdown",
   "id": "d97f3c6a-62a8-4465-b08c-c008dd269551",
   "metadata": {},
   "source": [
    "# XGBoost Model - Option #2"
   ]
  },
  {
   "cell_type": "code",
   "execution_count": null,
   "id": "0d784c3e-88d3-424f-8c27-0c72de302f2c",
   "metadata": {},
   "outputs": [],
   "source": [
    "# Read data from JSON\n",
    "rating_score_df = pd.read_json(RATINGS_FILENAME)\n",
    "\n",
    "# Set data frame and target variable\n",
    "df = rating_score_df.copy()\n",
    "df[\"y\"] = (df[\"Winner\"] == df[\"Home\"]).astype(int)\n",
    "\n",
    "# Add feature columns\n",
    "df[\"Massey_diff\"] = df[\"Home_Massey\"] - df[\"Away_Massey\"]\n",
    "df[\"Colley_diff\"] = df[\"Home_Colley\"] - df[\"Away_Colley\"]\n",
    "df[\"Elo_diff\"] = df[\"Home_Elo\"] - df[\"Away_Elo\"]\n",
    "df[\"Adj_Elo_diff\"] = df[\"Home_Adj_Elo\"] - df[\"Away_Adj_Elo\"]"
   ]
  },
  {
   "cell_type": "code",
   "execution_count": null,
   "id": "bb4f7a36-fc44-4a54-b153-734174dafbf7",
   "metadata": {},
   "outputs": [],
   "source": [
    "# Set features\n",
    "features = [\n",
    "    \"Massey_diff\",\n",
    "    \"Colley_diff\",\n",
    "    \"Elo_diff\",\n",
    "    \"Adj_Elo_diff\"\n",
    "]\n",
    "\n",
    "# Create X, y data frames\n",
    "X = df[features]\n",
    "y = df[\"y\"]\n",
    "\n",
    "# Split train/test data sets\n",
    "# X_train, X_test, y_train, y_test = train_test_split(X, y, test_size=0.2, shuffle=False)\n",
    "X_train, X_test, y_train, y_test = train_test_split(X, y, test_size=0.2, random_state=42)"
   ]
  },
  {
   "cell_type": "code",
   "execution_count": null,
   "id": "6a43e625-f560-4bda-bb38-b875a12b5162",
   "metadata": {},
   "outputs": [],
   "source": [
    "# Train XGBoost classifier\n",
    "model = xgb.XGBClassifier(\n",
    "    n_estimators=300,\n",
    "    learning_rate=0.05,\n",
    "    max_depth=4,\n",
    "    subsample=0.8,\n",
    "    colsample_bytree=0.8,\n",
    "    eval_metric=\"logloss\",\n",
    "    use_label_encoder=False\n",
    ")\n",
    "\n",
    "model.fit(X_train, y_train)"
   ]
  },
  {
   "cell_type": "code",
   "execution_count": null,
   "id": "5d363c0d-e274-4db5-8a1b-8928c83b2ca2",
   "metadata": {},
   "outputs": [],
   "source": [
    "# Evaluate\n",
    "y_pred = model.predict(X_test)\n",
    "y_pred_proba = model.predict_proba(X_test)[:, 1]"
   ]
  },
  {
   "cell_type": "code",
   "execution_count": null,
   "id": "81950a77-38e8-4992-a405-d9f5d8ef6d82",
   "metadata": {},
   "outputs": [],
   "source": [
    "print(\"Accuracy:\", accuracy_score(y_test, y_pred))\n",
    "print(\"ROC AUC:\", roc_auc_score(y_test, y_pred_proba))"
   ]
  },
  {
   "cell_type": "code",
   "execution_count": null,
   "id": "7318a870-323b-4a8a-8bf6-716ae0761d2a",
   "metadata": {},
   "outputs": [],
   "source": [
    "xgb.plot_importance(model, importance_type=\"gain\")"
   ]
  },
  {
   "cell_type": "markdown",
   "id": "c0a473d8-342b-460f-9f7c-a9dd84d56f44",
   "metadata": {},
   "source": [
    "# Test XGBoost Model Against March Madness Tournament"
   ]
  },
  {
   "cell_type": "code",
   "execution_count": null,
   "id": "607c121b-1e00-46f7-87fb-f83b7910d075",
   "metadata": {},
   "outputs": [],
   "source": [
    "ratings_dict = ru.compile_ratings_dict(score_df=score_df)\n",
    "\n",
    "_, _, tourney_dict = ru.simulate_tournament_with_all_ratings(filename=TOURNAMENT_FILENAME,\n",
    "                                                             ratings=ratings_dict,\n",
    "                                                             model=model)\n",
    "sys.write_tournament_to_csv(tourney_dict=tourney_dict,\n",
    "                            filename=PICKS_FILENAME,\n",
    "                            rating_type=\"xgb_model\")"
   ]
  },
  {
   "cell_type": "code",
   "execution_count": null,
   "id": "274fcad0-6335-49da-b85f-0de2b25223ea",
   "metadata": {},
   "outputs": [],
   "source": []
  },
  {
   "cell_type": "code",
   "execution_count": null,
   "id": "201b4a6a-903f-49db-9c1c-efd586cf8467",
   "metadata": {},
   "outputs": [],
   "source": []
  },
  {
   "cell_type": "code",
   "execution_count": null,
   "id": "9a0a4489-6a98-4e5d-a6bd-b0e132de7ffe",
   "metadata": {},
   "outputs": [],
   "source": []
  }
 ],
 "metadata": {
  "kernelspec": {
   "display_name": "college-hoops",
   "language": "python",
   "name": "college-hoops"
  },
  "language_info": {
   "codemirror_mode": {
    "name": "ipython",
    "version": 3
   },
   "file_extension": ".py",
   "mimetype": "text/x-python",
   "name": "python",
   "nbconvert_exporter": "python",
   "pygments_lexer": "ipython3",
   "version": "3.10.16"
  }
 },
 "nbformat": 4,
 "nbformat_minor": 5
}
