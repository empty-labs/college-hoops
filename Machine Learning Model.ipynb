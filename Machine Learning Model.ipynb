{
 "cells": [
  {
   "cell_type": "markdown",
   "id": "78a62ecd-81cf-4fce-b77c-e6f68b492a79",
   "metadata": {},
   "source": [
    "# Machine Learning Approach"
   ]
  },
  {
   "cell_type": "code",
   "execution_count": null,
   "id": "1113c31e-429f-4f80-8e75-252aef6e3c6c",
   "metadata": {},
   "outputs": [],
   "source": [
    "# Local libraries\n",
    "import Tools.ratings_utils as ru\n",
    "import Tools.system_utils as sys\n",
    "\n",
    "# Third party packages\n",
    "import pandas as pd\n",
    "from sklearn.model_selection import train_test_split\n",
    "from sklearn.linear_model import LogisticRegression\n",
    "from sklearn.metrics import accuracy_score, roc_auc_score\n",
    "\n",
    "\n",
    "YEAR = 2024\n",
    "FILENAME = f\"Data/Seasons/data_{YEAR}.json\"\n",
    "TOURNAMENT_FILENAME = f\"Data/Tournaments/tournament_{YEAR}.csv\"\n",
    "PICKS_FILENAME = f\"Data/Tournament Picks/picks_{YEAR}.csv\"\n",
    "RATINGS_FILENAME = f\"Data/Season Ratings/data_{YEAR}.json\"\n",
    "\n",
    "\n",
    "# Create data frame for valid teams in the current season that can be used for tournament simulation\n",
    "score_df = ru.set_rating_data_frame(filename=FILENAME)\n",
    "rating_score_df = None"
   ]
  },
  {
   "cell_type": "markdown",
   "id": "a6d6118b-5fc5-43ab-8782-0a1c034d6438",
   "metadata": {},
   "source": [
    "# Save Ratings to JSON\n",
    "### (Skip if already run for this season)"
   ]
  },
  {
   "cell_type": "code",
   "execution_count": null,
   "id": "1cf01400-79d7-46f9-bca2-173b9cf91c31",
   "metadata": {
    "scrolled": true
   },
   "outputs": [],
   "source": [
    "rating_score_df = ru.add_ratings_per_game(score_df=score_df)"
   ]
  },
  {
   "cell_type": "code",
   "execution_count": null,
   "id": "579d21d3-2640-4fc4-9e62-ce584204b056",
   "metadata": {},
   "outputs": [],
   "source": [
    "rating_score_df.to_json(RATINGS_FILENAME, orient='records', indent=4) "
   ]
  },
  {
   "cell_type": "markdown",
   "id": "e012d948-fd2e-4011-ba53-7128264b3fd3",
   "metadata": {},
   "source": [
    "# Logistic Regression Model - Option #1\n",
    "### Home team is winner -> 1\n",
    "### Away team is winner -> 0"
   ]
  },
  {
   "cell_type": "code",
   "execution_count": null,
   "id": "ab30286e-ee4d-46f0-8835-94f3c4d4b2e0",
   "metadata": {},
   "outputs": [],
   "source": [
    "# Read data from JSON\n",
    "rating_score_df = pd.read_json(RATINGS_FILENAME)"
   ]
  },
  {
   "cell_type": "code",
   "execution_count": null,
   "id": "84b1e5ca-cef1-48ae-a1bc-5222b736819d",
   "metadata": {},
   "outputs": [],
   "source": [
    "# Set data frame and target variable\n",
    "df = rating_score_df.copy()\n",
    "df[\"y\"] = (df[\"Winner\"] == df[\"Home\"]).astype(int)\n",
    "\n",
    "# Set feature columns\n",
    "df[\"Massey_diff\"] = df[\"Home_Massey\"] - df[\"Away_Massey\"]\n",
    "df[\"Colley_diff\"] = df[\"Home_Colley\"] - df[\"Away_Colley\"]\n",
    "df[\"Elo_diff\"] = df[\"Home_Elo\"] - df[\"Away_Elo\"]"
   ]
  },
  {
   "cell_type": "code",
   "execution_count": null,
   "id": "3d852d00-0ee0-4e02-98dc-0d5c7952a359",
   "metadata": {},
   "outputs": [],
   "source": [
    "# Create X, y data frames\n",
    "X = df[[\"Massey_diff\", \"Colley_diff\", \"Elo_diff\"]]\n",
    "y = df[\"y\"]\n",
    "\n",
    "# Split train/test data sets\n",
    "X_train, X_test, y_train, y_test = train_test_split(X, y, test_size=0.2, shuffle=False)"
   ]
  },
  {
   "cell_type": "code",
   "execution_count": null,
   "id": "dc5b26fc-a881-448b-a37a-545743828fd6",
   "metadata": {},
   "outputs": [],
   "source": [
    "model = LogisticRegression()\n",
    "model.fit(X_train, y_train)"
   ]
  },
  {
   "cell_type": "code",
   "execution_count": null,
   "id": "785a324e-0109-4e7a-bce3-6cdd66e36ea4",
   "metadata": {},
   "outputs": [],
   "source": [
    "y_pred = model.predict(X_test)\n",
    "y_prob = model.predict_proba(X_test)[:, 1]\n",
    "\n",
    "print(\"Accuracy:\", accuracy_score(y_test, y_pred))\n",
    "print(\"ROC AUC:\", roc_auc_score(y_test, y_prob))"
   ]
  },
  {
   "cell_type": "markdown",
   "id": "d440007d-c44b-4497-9f2c-d799b569dd6c",
   "metadata": {},
   "source": [
    "# Test Model Against March Madness Tournament"
   ]
  },
  {
   "cell_type": "code",
   "execution_count": null,
   "id": "306ea948-0262-44e2-8c1c-4581946e2068",
   "metadata": {},
   "outputs": [],
   "source": [
    "ratings_dict = ru.compile_ratings_dict(score_df=score_df)\n",
    "\n",
    "_, _, tourney_dict = ru.simulate_tournament_with_all_ratings(filename=TOURNAMENT_FILENAME,\n",
    "                                                             ratings=ratings_dict,\n",
    "                                                             model=model)\n",
    "sys.write_tournament_to_csv(tourney_dict=tourney_dict,\n",
    "                            filename=PICKS_FILENAME,\n",
    "                            rating_type=\"log_model\")"
   ]
  },
  {
   "cell_type": "code",
   "execution_count": null,
   "id": "480554e1-435a-4b06-a264-eefa3033e4bf",
   "metadata": {},
   "outputs": [],
   "source": []
  }
 ],
 "metadata": {
  "kernelspec": {
   "display_name": "college-hoops",
   "language": "python",
   "name": "college-hoops"
  },
  "language_info": {
   "codemirror_mode": {
    "name": "ipython",
    "version": 3
   },
   "file_extension": ".py",
   "mimetype": "text/x-python",
   "name": "python",
   "nbconvert_exporter": "python",
   "pygments_lexer": "ipython3",
   "version": "3.10.16"
  }
 },
 "nbformat": 4,
 "nbformat_minor": 5
}
