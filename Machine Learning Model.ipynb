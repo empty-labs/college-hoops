{
 "cells": [
  {
   "cell_type": "markdown",
   "id": "78a62ecd-81cf-4fce-b77c-e6f68b492a79",
   "metadata": {},
   "source": [
    "# Machine Learning Approach"
   ]
  },
  {
   "cell_type": "code",
   "execution_count": 1,
   "id": "1113c31e-429f-4f80-8e75-252aef6e3c6c",
   "metadata": {},
   "outputs": [],
   "source": [
    "# Local libraries\n",
    "import Tools.ratings_utils as ru\n",
    "import Tools.system_utils as sys\n",
    "\n",
    "YEAR = 2024\n",
    "FILENAME = f\"Data/Seasons/data_{YEAR}.json\"\n",
    "TOURNAMENT_FILENAME = f\"Data/Tournaments/tournament_{YEAR}.csv\"\n",
    "PICKS_FILENAME = f\"Data/Tournament Picks/picks_{YEAR}.csv\"\n",
    "\n",
    "\n",
    "# Create data frame for valid teams in the current season that can be used for tournament simulation\n",
    "score_df = ru.set_rating_data_frame(filename=FILENAME)"
   ]
  },
  {
   "cell_type": "code",
   "execution_count": 2,
   "id": "73c69695-7089-45ec-a8e1-1631f9b8df85",
   "metadata": {},
   "outputs": [
    {
     "name": "stdout",
     "output_type": "stream",
     "text": [
      "                 Date               Home  Home_Score  \\\n",
      "0 2023-11-06 11:00:00            IU Indy          70   \n",
      "1 2023-11-06 11:30:00            Hofstra         101   \n",
      "2 2023-11-06 12:00:00               Troy          92   \n",
      "3 2023-11-06 12:30:00  Stephen F. Austin          96   \n",
      "4 2023-11-06 13:00:00       Prairie View          89   \n",
      "\n",
      "                       Away  Away_Score             Winner  \n",
      "0                  Spalding          63            IU Indy  \n",
      "1  St. Joseph's–Long Island          48            Hofstra  \n",
      "2   Univ. of Ft. Lauderdale          47               Troy  \n",
      "3            North American          68  Stephen F. Austin  \n",
      "4          Kansas Christian          66       Prairie View  \n"
     ]
    }
   ],
   "source": [
    "print(score_df.head())"
   ]
  },
  {
   "cell_type": "code",
   "execution_count": 4,
   "id": "1cf01400-79d7-46f9-bca2-173b9cf91c31",
   "metadata": {},
   "outputs": [],
   "source": [
    "rating_score_df = ru.add_massey_ratings_per_game(score_df=score_df)"
   ]
  },
  {
   "cell_type": "code",
   "execution_count": 5,
   "id": "623d8ee0-3999-44c7-9832-ebb6b8b58b38",
   "metadata": {},
   "outputs": [
    {
     "name": "stdout",
     "output_type": "stream",
     "text": [
      "                    Date               Home  Home_Score  \\\n",
      "0    2023-11-06 11:00:00            IU Indy          70   \n",
      "1    2023-11-06 11:30:00            Hofstra         101   \n",
      "2    2023-11-06 12:00:00               Troy          92   \n",
      "3    2023-11-06 12:30:00  Stephen F. Austin          96   \n",
      "4    2023-11-06 13:00:00       Prairie View          89   \n",
      "...                  ...                ...         ...   \n",
      "6163 2024-03-27 19:00:00         Seton Hall          91   \n",
      "6164 2024-03-27 21:00:00               Utah          74   \n",
      "6165 2024-04-02 19:00:00      Indiana State         100   \n",
      "6166 2024-04-02 21:30:00         Seton Hall          84   \n",
      "6167 2024-04-04 19:00:00         Seton Hall          79   \n",
      "\n",
      "                          Away  Away_Score             Winner  HomeMassey  \\\n",
      "0                     Spalding          63            IU Indy    0.000000   \n",
      "1     St. Joseph's–Long Island          48            Hofstra    0.000000   \n",
      "2      Univ. of Ft. Lauderdale          47               Troy    0.000000   \n",
      "3               North American          68  Stephen F. Austin    0.000000   \n",
      "4             Kansas Christian          66       Prairie View    0.000000   \n",
      "...                        ...         ...                ...         ...   \n",
      "6163          Nevada-Las Vegas          68         Seton Hall   32.130946   \n",
      "6164     Virginia Commonwealth          54               Utah   35.877166   \n",
      "6165                      Utah          90      Indiana State   33.275999   \n",
      "6166                   Georgia          67         Seton Hall   32.788108   \n",
      "6167             Indiana State          77         Seton Hall   33.211532   \n",
      "\n",
      "      AwayMassey  \n",
      "0       0.000000  \n",
      "1       0.000000  \n",
      "2       0.000000  \n",
      "3       0.000000  \n",
      "4       0.000000  \n",
      "...          ...  \n",
      "6163   30.347338  \n",
      "6164   29.855732  \n",
      "6165   36.309869  \n",
      "6166   29.914265  \n",
      "6167   33.658779  \n",
      "\n",
      "[6168 rows x 8 columns]\n"
     ]
    }
   ],
   "source": [
    "print(rating_score_df)"
   ]
  },
  {
   "cell_type": "code",
   "execution_count": null,
   "id": "579d21d3-2640-4fc4-9e62-ce584204b056",
   "metadata": {},
   "outputs": [],
   "source": []
  }
 ],
 "metadata": {
  "kernelspec": {
   "display_name": "college-hoops",
   "language": "python",
   "name": "college-hoops"
  },
  "language_info": {
   "codemirror_mode": {
    "name": "ipython",
    "version": 3
   },
   "file_extension": ".py",
   "mimetype": "text/x-python",
   "name": "python",
   "nbconvert_exporter": "python",
   "pygments_lexer": "ipython3",
   "version": "3.10.16"
  }
 },
 "nbformat": 4,
 "nbformat_minor": 5
}
