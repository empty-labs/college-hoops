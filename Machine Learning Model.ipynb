{
 "cells": [
  {
   "cell_type": "markdown",
   "id": "78a62ecd-81cf-4fce-b77c-e6f68b492a79",
   "metadata": {},
   "source": [
    "# Machine Learning Approach"
   ]
  },
  {
   "cell_type": "code",
   "execution_count": null,
   "id": "1113c31e-429f-4f80-8e75-252aef6e3c6c",
   "metadata": {},
   "outputs": [],
   "source": [
    "# Local libraries\n",
    "import Tools.ratings_utils as ru\n",
    "import Tools.system_utils as sys\n",
    "\n",
    "# Third party packages\n",
    "import pandas as pd\n",
    "from sklearn.model_selection import train_test_split\n",
    "from sklearn.linear_model import LogisticRegression\n",
    "from sklearn.metrics import accuracy_score, roc_auc_score\n",
    "import xgboost as xgb\n",
    "\n",
    "\n",
    "YEAR = 2025\n",
    "FILENAME = f\"Data/Seasons/data_{YEAR}.json\"\n",
    "TOURNAMENT_FILENAME = f\"Data/Tournaments/tournament_{YEAR}.csv\"\n",
    "PICKS_FILENAME = f\"Data/Tournament Picks/picks_{YEAR}.csv\"\n",
    "RATINGS_FILENAME = f\"Data/Season Ratings/data_{YEAR}.json\"\n",
    "\n",
    "\n",
    "# Create data frame for valid teams in the current season that can be used for tournament simulation\n",
    "score_df = ru.set_rating_data_frame(filename=FILENAME)\n",
    "rating_score_df = None"
   ]
  },
  {
   "cell_type": "markdown",
   "id": "43b03187-3b08-4c86-a4d9-7e85bc8daf8d",
   "metadata": {},
   "source": [
    "### Multiple Seasons"
   ]
  },
  {
   "cell_type": "code",
   "execution_count": null,
   "id": "040e9867-bf1f-43d0-a7f3-c85622571036",
   "metadata": {},
   "outputs": [],
   "source": [
    "import pandas as pd\n",
    "\n",
    "YEARS = [2021, 2022, 2023, 2024, 2025]\n",
    "\n",
    "\n",
    "for YEAR in YEARS:\n",
    "    FILENAME = f\"Data/Seasons/data_{YEAR}.json\"\n",
    "    TOURNAMENT_FILENAME = f\"Data/Tournaments/tournament_{YEAR}.csv\"\n",
    "    PICKS_FILENAME = f\"Data/Tournament Picks/picks_{YEAR}.csv\"\n",
    "    \n",
    "    if YEAR is YEARS[0]:\n",
    "        # Create data frame for valid teams in the current season that can be used for tournament simulation\n",
    "        score_df = ru.set_rating_data_frame(filename=FILENAME)\n",
    "    else:\n",
    "        # Concatenate\n",
    "        new_season_score_df = ru.set_rating_data_frame(filename=FILENAME)\n",
    "        score_df = pd.concat([score_df, new_season_score_df], ignore_index=True)\n",
    "\n",
    "\n",
    "TOURNAMENT_YEAR = YEARS[-1]\n",
    "FILENAME_YEARS = f\"{YEARS[0]}-{TOURNAMENT_YEAR}\"\n",
    "PICKS_FILENAME = f\"Data/Tournament Picks/picks_{FILENAME_YEARS}.csv\"\n",
    "RATINGS_FILENAME = f\"Data/Season Ratings/data_{FILENAME_YEARS}.json\""
   ]
  },
  {
   "cell_type": "markdown",
   "id": "a6d6118b-5fc5-43ab-8782-0a1c034d6438",
   "metadata": {},
   "source": [
    "# Save Ratings to JSON\n",
    "### (Skip if already run for this season)"
   ]
  },
  {
   "cell_type": "code",
   "execution_count": null,
   "id": "1cf01400-79d7-46f9-bca2-173b9cf91c31",
   "metadata": {
    "scrolled": true
   },
   "outputs": [],
   "source": [
    "rating_score_df = ru.add_ratings_per_game(score_df=score_df)"
   ]
  },
  {
   "cell_type": "code",
   "execution_count": null,
   "id": "579d21d3-2640-4fc4-9e62-ce584204b056",
   "metadata": {},
   "outputs": [],
   "source": [
    "rating_score_df.to_json(RATINGS_FILENAME, orient='records', indent=4)"
   ]
  },
  {
   "cell_type": "markdown",
   "id": "e012d948-fd2e-4011-ba53-7128264b3fd3",
   "metadata": {},
   "source": [
    "# Logistic Regression Model - Option #1\n",
    "### Home team is winner -> 1\n",
    "### Away team is winner -> 0"
   ]
  },
  {
   "cell_type": "code",
   "execution_count": null,
   "id": "ab30286e-ee4d-46f0-8835-94f3c4d4b2e0",
   "metadata": {},
   "outputs": [],
   "source": [
    "# Read data from JSON\n",
    "rating_score_df = pd.read_json(RATINGS_FILENAME)\n",
    "\n",
    "# Set data frame and target variable\n",
    "df = rating_score_df.copy()\n",
    "df[\"y\"] = (df[\"Winner\"] == df[\"Home\"]).astype(int)\n",
    "\n",
    "# Add feature columns\n",
    "df[\"Massey_diff\"] = df[\"Home_Massey\"] - df[\"Away_Massey\"]\n",
    "df[\"Colley_diff\"] = df[\"Home_Colley\"] - df[\"Away_Colley\"]\n",
    "df[\"Elo_diff\"] = df[\"Home_Elo\"] - df[\"Away_Elo\"]\n",
    "df[\"Adj_Elo_diff\"] = df[\"Home_Adj_Elo\"] - df[\"Away_Adj_Elo\"]"
   ]
  },
  {
   "cell_type": "code",
   "execution_count": null,
   "id": "3d852d00-0ee0-4e02-98dc-0d5c7952a359",
   "metadata": {},
   "outputs": [],
   "source": [
    "# Set features\n",
    "features = [\n",
    "    \"Massey_diff\",\n",
    "    \"Colley_diff\",\n",
    "    \"Elo_diff\",\n",
    "    \"Adj_Elo_diff\"\n",
    "]\n",
    "\n",
    "# Create X, y data frames\n",
    "X = df[features]\n",
    "y = df[\"y\"]\n",
    "\n",
    "# Split train/test data sets\n",
    "# X_train, X_test, y_train, y_test = train_test_split(X, y, test_size=0.2, shuffle=False)\n",
    "X_train, X_test, y_train, y_test = train_test_split(X, y, test_size=0.2, random_state=42)"
   ]
  },
  {
   "cell_type": "code",
   "execution_count": null,
   "id": "dc5b26fc-a881-448b-a37a-545743828fd6",
   "metadata": {},
   "outputs": [],
   "source": [
    "model = LogisticRegression()\n",
    "model.fit(X_train, y_train)"
   ]
  },
  {
   "cell_type": "code",
   "execution_count": null,
   "id": "785a324e-0109-4e7a-bce3-6cdd66e36ea4",
   "metadata": {},
   "outputs": [],
   "source": [
    "y_pred = model.predict(X_test)\n",
    "y_prob = model.predict_proba(X_test)[:, 1]\n",
    "\n",
    "print(\"Accuracy:\", accuracy_score(y_test, y_pred))\n",
    "print(\"ROC AUC:\", roc_auc_score(y_test, y_prob))"
   ]
  },
  {
   "cell_type": "code",
   "execution_count": null,
   "id": "9396405f-5d69-4fb0-a671-42d4677d0023",
   "metadata": {},
   "outputs": [],
   "source": [
    "coef_df = pd.DataFrame({\n",
    "    \"Feature\": X.columns,\n",
    "    \"Coefficient\": model.coef_[0]\n",
    "})\n",
    "print(coef_df)"
   ]
  },
  {
   "cell_type": "markdown",
   "id": "d440007d-c44b-4497-9f2c-d799b569dd6c",
   "metadata": {},
   "source": [
    "# Test Logistic Regression Model Against March Madness Tournament"
   ]
  },
  {
   "cell_type": "code",
   "execution_count": null,
   "id": "306ea948-0262-44e2-8c1c-4581946e2068",
   "metadata": {},
   "outputs": [],
   "source": [
    "ratings_dict = ru.compile_ratings_dict(score_df=score_df)\n",
    "\n",
    "_, _, tourney_dict = ru.simulate_tournament_with_all_ratings(filename=TOURNAMENT_FILENAME,\n",
    "                                                             ratings=ratings_dict,\n",
    "                                                             model=model)\n",
    "sys.write_tournament_to_csv(tourney_dict=tourney_dict,\n",
    "                            filename=PICKS_FILENAME,\n",
    "                            rating_type=\"log_model\")"
   ]
  },
  {
   "cell_type": "markdown",
   "id": "d97f3c6a-62a8-4465-b08c-c008dd269551",
   "metadata": {},
   "source": [
    "# XGBoost Model - Option #2"
   ]
  },
  {
   "cell_type": "code",
   "execution_count": null,
   "id": "0d784c3e-88d3-424f-8c27-0c72de302f2c",
   "metadata": {},
   "outputs": [],
   "source": [
    "# Read data from JSON\n",
    "rating_score_df = pd.read_json(RATINGS_FILENAME)\n",
    "\n",
    "# Set data frame and target variable\n",
    "df = rating_score_df.copy()\n",
    "df[\"y\"] = (df[\"Winner\"] == df[\"Home\"]).astype(int)\n",
    "\n",
    "# Add feature columns\n",
    "df[\"Massey_diff\"] = df[\"Home_Massey\"] - df[\"Away_Massey\"]\n",
    "df[\"Colley_diff\"] = df[\"Home_Colley\"] - df[\"Away_Colley\"]\n",
    "df[\"Elo_diff\"] = df[\"Home_Elo\"] - df[\"Away_Elo\"]\n",
    "df[\"Adj_Elo_diff\"] = df[\"Home_Adj_Elo\"] - df[\"Away_Adj_Elo\"]"
   ]
  },
  {
   "cell_type": "code",
   "execution_count": null,
   "id": "bb4f7a36-fc44-4a54-b153-734174dafbf7",
   "metadata": {},
   "outputs": [],
   "source": [
    "# Set features\n",
    "features = [\n",
    "    \"Massey_diff\",\n",
    "    \"Colley_diff\",\n",
    "    \"Elo_diff\",\n",
    "    \"Adj_Elo_diff\"\n",
    "]\n",
    "\n",
    "# Create X, y data frames\n",
    "X = df[features]\n",
    "y = df[\"y\"]\n",
    "\n",
    "# Split train/test data sets\n",
    "# X_train, X_test, y_train, y_test = train_test_split(X, y, test_size=0.2, shuffle=False)\n",
    "X_train, X_test, y_train, y_test = train_test_split(X, y, test_size=0.2, random_state=42)"
   ]
  },
  {
   "cell_type": "code",
   "execution_count": null,
   "id": "6a43e625-f560-4bda-bb38-b875a12b5162",
   "metadata": {},
   "outputs": [],
   "source": [
    "# Train XGBoost classifier\n",
    "model = xgb.XGBClassifier(\n",
    "    n_estimators=300,\n",
    "    learning_rate=0.05,\n",
    "    max_depth=4,\n",
    "    subsample=0.8,\n",
    "    colsample_bytree=0.8,\n",
    "    eval_metric=\"logloss\",\n",
    "    use_label_encoder=False\n",
    ")\n",
    "\n",
    "model.fit(X_train, y_train)"
   ]
  },
  {
   "cell_type": "code",
   "execution_count": null,
   "id": "5d363c0d-e274-4db5-8a1b-8928c83b2ca2",
   "metadata": {},
   "outputs": [],
   "source": [
    "# Evaluate\n",
    "y_pred = model.predict(X_test)\n",
    "y_pred_proba = model.predict_proba(X_test)[:, 1]"
   ]
  },
  {
   "cell_type": "code",
   "execution_count": null,
   "id": "81950a77-38e8-4992-a405-d9f5d8ef6d82",
   "metadata": {},
   "outputs": [],
   "source": [
    "print(\"Accuracy:\", accuracy_score(y_test, y_pred))\n",
    "print(\"ROC AUC:\", roc_auc_score(y_test, y_pred_proba))"
   ]
  },
  {
   "cell_type": "code",
   "execution_count": null,
   "id": "7318a870-323b-4a8a-8bf6-716ae0761d2a",
   "metadata": {},
   "outputs": [],
   "source": [
    "xgb.plot_importance(model, importance_type=\"gain\")"
   ]
  },
  {
   "cell_type": "markdown",
   "id": "c0a473d8-342b-460f-9f7c-a9dd84d56f44",
   "metadata": {},
   "source": [
    "# Test XGBoost Model Against March Madness Tournament"
   ]
  },
  {
   "cell_type": "code",
   "execution_count": null,
   "id": "607c121b-1e00-46f7-87fb-f83b7910d075",
   "metadata": {},
   "outputs": [],
   "source": [
    "ratings_dict = ru.compile_ratings_dict(score_df=score_df)\n",
    "\n",
    "_, _, tourney_dict = ru.simulate_tournament_with_all_ratings(filename=TOURNAMENT_FILENAME,\n",
    "                                                             ratings=ratings_dict,\n",
    "                                                             model=model)\n",
    "sys.write_tournament_to_csv(tourney_dict=tourney_dict,\n",
    "                            filename=PICKS_FILENAME,\n",
    "                            rating_type=\"xgb_model\")"
   ]
  },
  {
   "cell_type": "code",
   "execution_count": null,
   "id": "274fcad0-6335-49da-b85f-0de2b25223ea",
   "metadata": {},
   "outputs": [],
   "source": []
  },
  {
   "cell_type": "code",
   "execution_count": null,
   "id": "201b4a6a-903f-49db-9c1c-efd586cf8467",
   "metadata": {},
   "outputs": [],
   "source": []
  },
  {
   "cell_type": "code",
   "execution_count": null,
   "id": "9a0a4489-6a98-4e5d-a6bd-b0e132de7ffe",
   "metadata": {},
   "outputs": [],
   "source": []
  }
 ],
 "metadata": {
  "kernelspec": {
   "display_name": "college-hoops",
   "language": "python",
   "name": "college-hoops"
  },
  "language_info": {
   "codemirror_mode": {
    "name": "ipython",
    "version": 3
   },
   "file_extension": ".py",
   "mimetype": "text/x-python",
   "name": "python",
   "nbconvert_exporter": "python",
   "pygments_lexer": "ipython3",
   "version": "3.10.16"
  }
 },
 "nbformat": 4,
 "nbformat_minor": 5
}
