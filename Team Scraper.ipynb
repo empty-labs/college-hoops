{
 "cells": [
  {
   "cell_type": "markdown",
   "id": "eb154986-cd44-4d85-99e0-fba4f56aea63",
   "metadata": {},
   "source": [
    "# Team Scraper"
   ]
  },
  {
   "cell_type": "code",
   "execution_count": null,
   "id": "ee96e4ac-e2f0-4349-9e55-46a716ad2844",
   "metadata": {},
   "outputs": [],
   "source": [
    "# Local libraries\n",
    "import Classes.TeamList as TeamList\n",
    "import Tools.scraper_utils as su\n",
    "\n",
    "YEAR = 2024\n",
    "FILENAME = f\"Data/Seasons/data_{YEAR}.json\"\n",
    "TEAM_URL = \"https://www.sports-reference.com/cbb/schools/\"\n",
    "URL_SUFFIX = f\"{YEAR}-schedule.html\""
   ]
  },
  {
   "cell_type": "markdown",
   "id": "766ef2d1-f8f7-43de-922e-ba7817e0f5b2",
   "metadata": {},
   "source": [
    "# Team List"
   ]
  },
  {
   "cell_type": "code",
   "execution_count": null,
   "id": "53bcc945-08b1-4f0a-bedc-4b1b9673f839",
   "metadata": {},
   "outputs": [],
   "source": [
    "# Compile list of eligible teams for this given season\n",
    "team_list = TeamList.TeamList(url=TEAM_URL)"
   ]
  },
  {
   "cell_type": "code",
   "execution_count": null,
   "id": "8d90f09e-15c9-4a41-b833-beafaafeb6ad",
   "metadata": {
    "scrolled": true
   },
   "outputs": [],
   "source": [
    "# Add teams to JSON data set using table in Sports Reference URL\n",
    "su.add_teams_to_json(team_list=team_list,\n",
    "                     filename=FILENAME,\n",
    "                     url_suffix=URL_SUFFIX)"
   ]
  },
  {
   "cell_type": "code",
   "execution_count": null,
   "id": "961604c7-84f8-45a3-aed4-8ac9ecf1d248",
   "metadata": {},
   "outputs": [],
   "source": []
  }
 ],
 "metadata": {
  "kernelspec": {
   "display_name": "college-hoops",
   "language": "python",
   "name": "college-hoops"
  },
  "language_info": {
   "codemirror_mode": {
    "name": "ipython",
    "version": 3
   },
   "file_extension": ".py",
   "mimetype": "text/x-python",
   "name": "python",
   "nbconvert_exporter": "python",
   "pygments_lexer": "ipython3",
   "version": "3.10.16"
  }
 },
 "nbformat": 4,
 "nbformat_minor": 5
}
