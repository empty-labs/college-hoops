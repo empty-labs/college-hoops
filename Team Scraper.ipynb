{
 "cells": [
  {
   "cell_type": "markdown",
   "id": "eb154986-cd44-4d85-99e0-fba4f56aea63",
   "metadata": {},
   "source": [
    "# Team Scraper"
   ]
  },
  {
   "cell_type": "code",
   "execution_count": null,
   "id": "ee96e4ac-e2f0-4349-9e55-46a716ad2844",
   "metadata": {},
   "outputs": [],
   "source": [
    "import TeamList\n",
    "import Team"
   ]
  },
  {
   "cell_type": "code",
   "execution_count": null,
   "id": "53bcc945-08b1-4f0a-bedc-4b1b9673f839",
   "metadata": {},
   "outputs": [],
   "source": [
    "url = \"https://www.sports-reference.com/cbb/schools/\"\n",
    "team_list = TeamList.TeamList(url=url)"
   ]
  },
  {
   "cell_type": "code",
   "execution_count": null,
   "id": "8d90f09e-15c9-4a41-b833-beafaafeb6ad",
   "metadata": {},
   "outputs": [],
   "source": [
    "\n",
    "URL_SUFFIX = \"2025-schedule.html\"\n",
    "\n",
    "for i in range(len(team_list.df[\"URL\"])):\n",
    "    team_url = team_list.df[\"URL\"][i] + URL_SUFFIX\n",
    "    print(i, team_url)\n",
    "    team = Team.Team(url=team_url)\n",
    "    if team.df is not None:\n",
    "        print(team.df[\"W\"][0], team.df[\"L\"][0])"
   ]
  },
  {
   "cell_type": "code",
   "execution_count": null,
   "id": "f1a3d372-82a2-4099-a5ee-4bbd0bc85ee8",
   "metadata": {},
   "outputs": [],
   "source": [
    "test_url = \"https://www.sports-reference.com/cbb/schools/kansas/2024-schedule.html\"\n",
    "team = Team.Team(url=test_url)"
   ]
  },
  {
   "cell_type": "code",
   "execution_count": null,
   "id": "a9a797b8-f0fa-4738-a6d3-fa2ef1cb32ce",
   "metadata": {},
   "outputs": [],
   "source": []
  }
 ],
 "metadata": {
  "kernelspec": {
   "display_name": "college-hoops",
   "language": "python",
   "name": "college-hoops"
  },
  "language_info": {
   "codemirror_mode": {
    "name": "ipython",
    "version": 3
   },
   "file_extension": ".py",
   "mimetype": "text/x-python",
   "name": "python",
   "nbconvert_exporter": "python",
   "pygments_lexer": "ipython3",
   "version": "3.10.16"
  }
 },
 "nbformat": 4,
 "nbformat_minor": 5
}
